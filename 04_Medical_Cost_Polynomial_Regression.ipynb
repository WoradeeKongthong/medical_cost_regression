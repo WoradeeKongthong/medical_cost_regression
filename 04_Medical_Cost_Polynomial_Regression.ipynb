{
  "nbformat": 4,
  "nbformat_minor": 0,
  "metadata": {
    "colab": {
      "name": "04 Medical Cost Polynomial Regression.ipynb",
      "provenance": [],
      "mount_file_id": "1xknF1dN3vaJTw_f0knCku0ZccHBrp-G2",
      "authorship_tag": "ABX9TyOT66zUauM5aTASeWYvcAjy",
      "include_colab_link": true
    },
    "kernelspec": {
      "name": "python3",
      "display_name": "Python 3"
    }
  },
  "cells": [
    {
      "cell_type": "markdown",
      "metadata": {
        "id": "view-in-github",
        "colab_type": "text"
      },
      "source": [
        "<a href=\"https://colab.research.google.com/github/WoradeeKongthong/medical_cost_regression/blob/master/04_Medical_Cost_Polynomial_Regression.ipynb\" target=\"_parent\"><img src=\"https://colab.research.google.com/assets/colab-badge.svg\" alt=\"Open In Colab\"/></a>"
      ]
    },
    {
      "cell_type": "code",
      "metadata": {
        "id": "VSrQqKu9BrHk",
        "colab_type": "code",
        "colab": {}
      },
      "source": [
        "import numpy as np\n",
        "import pandas as pd"
      ],
      "execution_count": 0,
      "outputs": []
    },
    {
      "cell_type": "code",
      "metadata": {
        "id": "bPTGnsFCCIJN",
        "colab_type": "code",
        "colab": {}
      },
      "source": [
        "## Data Preprocessing\n",
        "\n",
        "## importing the dataset\n",
        "df = pd.read_csv('/content/drive/My Drive/life-long learning/MyProjects/Medical Cost/cleaned_insurance.csv', usecols=[0,1,2,3,4,5,6])"
      ],
      "execution_count": 0,
      "outputs": []
    },
    {
      "cell_type": "code",
      "metadata": {
        "id": "fbb3dO05CYXC",
        "colab_type": "code",
        "outputId": "4ea02092-4641-48e3-f2a5-9ff3b4edddc5",
        "colab": {
          "base_uri": "https://localhost:8080/",
          "height": 204
        }
      },
      "source": [
        "df.head()"
      ],
      "execution_count": 3,
      "outputs": [
        {
          "output_type": "execute_result",
          "data": {
            "text/html": [
              "<div>\n",
              "<style scoped>\n",
              "    .dataframe tbody tr th:only-of-type {\n",
              "        vertical-align: middle;\n",
              "    }\n",
              "\n",
              "    .dataframe tbody tr th {\n",
              "        vertical-align: top;\n",
              "    }\n",
              "\n",
              "    .dataframe thead th {\n",
              "        text-align: right;\n",
              "    }\n",
              "</style>\n",
              "<table border=\"1\" class=\"dataframe\">\n",
              "  <thead>\n",
              "    <tr style=\"text-align: right;\">\n",
              "      <th></th>\n",
              "      <th>age</th>\n",
              "      <th>sex</th>\n",
              "      <th>bmi</th>\n",
              "      <th>children</th>\n",
              "      <th>smoker</th>\n",
              "      <th>region</th>\n",
              "      <th>charges</th>\n",
              "    </tr>\n",
              "  </thead>\n",
              "  <tbody>\n",
              "    <tr>\n",
              "      <th>0</th>\n",
              "      <td>19</td>\n",
              "      <td>female</td>\n",
              "      <td>27.900</td>\n",
              "      <td>0</td>\n",
              "      <td>True</td>\n",
              "      <td>southwest</td>\n",
              "      <td>16884.92400</td>\n",
              "    </tr>\n",
              "    <tr>\n",
              "      <th>1</th>\n",
              "      <td>18</td>\n",
              "      <td>male</td>\n",
              "      <td>33.770</td>\n",
              "      <td>1</td>\n",
              "      <td>False</td>\n",
              "      <td>southeast</td>\n",
              "      <td>1725.55230</td>\n",
              "    </tr>\n",
              "    <tr>\n",
              "      <th>2</th>\n",
              "      <td>28</td>\n",
              "      <td>male</td>\n",
              "      <td>33.000</td>\n",
              "      <td>3</td>\n",
              "      <td>False</td>\n",
              "      <td>southeast</td>\n",
              "      <td>4449.46200</td>\n",
              "    </tr>\n",
              "    <tr>\n",
              "      <th>3</th>\n",
              "      <td>33</td>\n",
              "      <td>male</td>\n",
              "      <td>22.705</td>\n",
              "      <td>0</td>\n",
              "      <td>False</td>\n",
              "      <td>northwest</td>\n",
              "      <td>21984.47061</td>\n",
              "    </tr>\n",
              "    <tr>\n",
              "      <th>4</th>\n",
              "      <td>32</td>\n",
              "      <td>male</td>\n",
              "      <td>28.880</td>\n",
              "      <td>0</td>\n",
              "      <td>False</td>\n",
              "      <td>northwest</td>\n",
              "      <td>3866.85520</td>\n",
              "    </tr>\n",
              "  </tbody>\n",
              "</table>\n",
              "</div>"
            ],
            "text/plain": [
              "   age     sex     bmi  children  smoker     region      charges\n",
              "0   19  female  27.900         0    True  southwest  16884.92400\n",
              "1   18    male  33.770         1   False  southeast   1725.55230\n",
              "2   28    male  33.000         3   False  southeast   4449.46200\n",
              "3   33    male  22.705         0   False  northwest  21984.47061\n",
              "4   32    male  28.880         0   False  northwest   3866.85520"
            ]
          },
          "metadata": {
            "tags": []
          },
          "execution_count": 3
        }
      ]
    },
    {
      "cell_type": "code",
      "metadata": {
        "id": "8Pg0uBG11nC7",
        "colab_type": "code",
        "colab": {}
      },
      "source": [
        "X = df.iloc[:, :-1].values\n",
        "y = df.iloc[:, -1].values"
      ],
      "execution_count": 0,
      "outputs": []
    },
    {
      "cell_type": "code",
      "metadata": {
        "id": "u7q86OcG2Ait",
        "colab_type": "code",
        "outputId": "2396d1a2-91b3-4a3e-861b-eb609ea84c73",
        "colab": {
          "base_uri": "https://localhost:8080/",
          "height": 136
        }
      },
      "source": [
        "print(X)"
      ],
      "execution_count": 5,
      "outputs": [
        {
          "output_type": "stream",
          "text": [
            "[[19 'female' 27.9 0 True 'southwest']\n",
            " [18 'male' 33.77 1 False 'southeast']\n",
            " [28 'male' 33.0 3 False 'southeast']\n",
            " ...\n",
            " [18 'female' 36.85 0 False 'southeast']\n",
            " [21 'female' 25.8 0 False 'southwest']\n",
            " [61 'female' 29.07 0 True 'northwest']]\n"
          ],
          "name": "stdout"
        }
      ]
    },
    {
      "cell_type": "code",
      "metadata": {
        "id": "6r4KHQVP2Fd9",
        "colab_type": "code",
        "outputId": "d13fef91-2e6c-403d-a1e1-9cd2a244bdf0",
        "colab": {
          "base_uri": "https://localhost:8080/",
          "height": 34
        }
      },
      "source": [
        "print(y)"
      ],
      "execution_count": 6,
      "outputs": [
        {
          "output_type": "stream",
          "text": [
            "[16884.924   1725.5523  4449.462  ...  1629.8335  2007.945  29141.3603]\n"
          ],
          "name": "stdout"
        }
      ]
    },
    {
      "cell_type": "code",
      "metadata": {
        "id": "8ojz9A7Q2OKj",
        "colab_type": "code",
        "colab": {}
      },
      "source": [
        "# encoding categorical data\n",
        "from sklearn.compose import ColumnTransformer\n",
        "from sklearn.preprocessing import OneHotEncoder\n",
        "\n",
        "ct = ColumnTransformer(transformers=[('encoder', OneHotEncoder(drop='first'), [1,4,5])], remainder='passthrough')\n",
        "X = ct.fit_transform(X)"
      ],
      "execution_count": 0,
      "outputs": []
    },
    {
      "cell_type": "code",
      "metadata": {
        "id": "kwVSxs9aSz2G",
        "colab_type": "code",
        "outputId": "396ba114-816e-4d69-dec3-3dd57078b64b",
        "colab": {
          "base_uri": "https://localhost:8080/",
          "height": 102
        }
      },
      "source": [
        "print(X[:5])"
      ],
      "execution_count": 8,
      "outputs": [
        {
          "output_type": "stream",
          "text": [
            "[[0.0 1.0 0.0 0.0 1.0 19 27.9 0]\n",
            " [1.0 0.0 0.0 1.0 0.0 18 33.77 1]\n",
            " [1.0 0.0 0.0 1.0 0.0 28 33.0 3]\n",
            " [1.0 0.0 1.0 0.0 0.0 33 22.705 0]\n",
            " [1.0 0.0 1.0 0.0 0.0 32 28.88 0]]\n"
          ],
          "name": "stdout"
        }
      ]
    },
    {
      "cell_type": "code",
      "metadata": {
        "id": "GkKEeHXv3ufE",
        "colab_type": "code",
        "colab": {}
      },
      "source": [
        "# Splitting the dataset into the Training set and Test set\n",
        "from sklearn.model_selection import train_test_split\n",
        "X_train, X_test, y_train, y_test = train_test_split(X, y, test_size = 0.2)"
      ],
      "execution_count": 0,
      "outputs": []
    },
    {
      "cell_type": "code",
      "metadata": {
        "id": "ltxUEXVkHUlF",
        "colab_type": "code",
        "outputId": "c51e4693-4138-4880-804d-1b9591016b30",
        "colab": {
          "base_uri": "https://localhost:8080/",
          "height": 34
        }
      },
      "source": [
        "# Training the Polynomial Regression model on the Training set\n",
        "from sklearn.preprocessing import PolynomialFeatures\n",
        "from sklearn.linear_model import LinearRegression\n",
        "\n",
        "poly_feature = PolynomialFeatures(degree=2)\n",
        "X_train_poly = poly_feature.fit_transform(X_train)\n",
        "poly_reg = LinearRegression()\n",
        "poly_reg.fit(X_train_poly, y_train)"
      ],
      "execution_count": 10,
      "outputs": [
        {
          "output_type": "execute_result",
          "data": {
            "text/plain": [
              "LinearRegression(copy_X=True, fit_intercept=True, n_jobs=None, normalize=False)"
            ]
          },
          "metadata": {
            "tags": []
          },
          "execution_count": 10
        }
      ]
    },
    {
      "cell_type": "code",
      "metadata": {
        "id": "E0UlBP4xIKJD",
        "colab_type": "code",
        "outputId": "55556463-5458-4f16-900e-51f2a8b554b4",
        "colab": {
          "base_uri": "https://localhost:8080/",
          "height": 187
        }
      },
      "source": [
        "# Predicting the Test set results\n",
        "X_test_poly = poly_feature.fit_transform(X_test)\n",
        "y_pred = poly_reg.predict(X_test_poly)\n",
        "np.set_printoptions(precision=2)\n",
        "print(np.concatenate((y_pred.reshape(len(y_pred),1), y_test.reshape(len(y_test),1)),1)[:10])"
      ],
      "execution_count": 11,
      "outputs": [
        {
          "output_type": "stream",
          "text": [
            "[[11053.77  9288.03]\n",
            " [16650.73 14901.52]\n",
            " [ 6553.81  4347.02]\n",
            " [14956.33 13143.34]\n",
            " [ 4807.32  3766.88]\n",
            " [38233.47 43813.87]\n",
            " [13669.02 11015.17]\n",
            " [ 4340.34  2498.41]\n",
            " [ 8680.52  7740.34]\n",
            " [ 7316.03  6933.24]]\n"
          ],
          "name": "stdout"
        }
      ]
    },
    {
      "cell_type": "code",
      "metadata": {
        "id": "lKPjxSRIKgdU",
        "colab_type": "code",
        "outputId": "c1ac3fa4-fd30-42bc-a29b-3ee1d26b4f19",
        "colab": {
          "base_uri": "https://localhost:8080/",
          "height": 85
        }
      },
      "source": [
        "# Model Evaluation\n",
        "from sklearn.metrics import r2_score, mean_absolute_error, mean_squared_error\n",
        "n = X_test.shape[0]\n",
        "p = X_test.shape[1]\n",
        "r_square = r2_score(y_test, y_pred)\n",
        "adj_r_square = 1 - (1 - r_square) * ((n - 1) / (n - p - 1)) \n",
        "mae = mean_absolute_error(y_test, y_pred)\n",
        "mse = mean_squared_error(y_test, y_pred)\n",
        "\n",
        "print(\"R-square : \",r_square)\n",
        "print(\"Adjusted R-square : \",adj_r_square)\n",
        "print(\"MAE : \", mae)\n",
        "print(\"MSE : \",mse)"
      ],
      "execution_count": 12,
      "outputs": [
        {
          "output_type": "stream",
          "text": [
            "R-square :  0.8594521221366906\n",
            "Adjusted R-square :  0.8551108749440015\n",
            "MAE :  2670.015275478296\n",
            "MSE :  21253478.792497475\n"
          ],
          "name": "stdout"
        }
      ]
    },
    {
      "cell_type": "code",
      "metadata": {
        "id": "uMv4h3pmMyGk",
        "colab_type": "code",
        "colab": {
          "base_uri": "https://localhost:8080/",
          "height": 51
        },
        "outputId": "e2cf5e7c-3c24-41ad-f5d2-b1ef95bf6dcb"
      },
      "source": [
        "# Applying K-Fold Cross Validation\n",
        "from sklearn.model_selection import cross_val_score\n",
        "accuracies = cross_val_score(estimator = poly_reg, X = X_train, y = y_train, cv = 10)\n",
        "print(\"Accuracy: {}\".format(accuracies.mean()))\n",
        "print(\"Standard Deviation: {}\".format(accuracies.std()))"
      ],
      "execution_count": 13,
      "outputs": [
        {
          "output_type": "stream",
          "text": [
            "Accuracy: 0.7395815070316162\n",
            "Standard Deviation: 0.03439503467929018\n"
          ],
          "name": "stdout"
        }
      ]
    }
  ]
}