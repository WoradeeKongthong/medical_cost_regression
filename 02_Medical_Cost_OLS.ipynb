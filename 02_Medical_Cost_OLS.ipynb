{
  "nbformat": 4,
  "nbformat_minor": 0,
  "metadata": {
    "colab": {
      "name": "02 Medical Cost OLS.ipynb",
      "provenance": [],
      "mount_file_id": "11ubimp5h_7Sf1rehAM_7xZ_RznuW4pQT",
      "authorship_tag": "ABX9TyOe/PoBxFg4o14pS/h+Q5aO",
      "include_colab_link": true
    },
    "kernelspec": {
      "name": "python3",
      "display_name": "Python 3"
    }
  },
  "cells": [
    {
      "cell_type": "markdown",
      "metadata": {
        "id": "view-in-github",
        "colab_type": "text"
      },
      "source": [
        "<a href=\"https://colab.research.google.com/github/WoradeeKongthong/medical_cost_regression/blob/master/02_Medical_Cost_OLS.ipynb\" target=\"_parent\"><img src=\"https://colab.research.google.com/assets/colab-badge.svg\" alt=\"Open In Colab\"/></a>"
      ]
    },
    {
      "cell_type": "code",
      "metadata": {
        "id": "VSrQqKu9BrHk",
        "colab_type": "code",
        "colab": {}
      },
      "source": [
        "import numpy as np\n",
        "import pandas as pd"
      ],
      "execution_count": 0,
      "outputs": []
    },
    {
      "cell_type": "code",
      "metadata": {
        "id": "bPTGnsFCCIJN",
        "colab_type": "code",
        "colab": {}
      },
      "source": [
        "## Data Preprocessing\n",
        "\n",
        "# importing the dataset\n",
        "df = pd.read_csv('/content/drive/My Drive/life-long learning/MyProjects/Medical Cost/cleaned_insurance.csv')"
      ],
      "execution_count": 0,
      "outputs": []
    },
    {
      "cell_type": "code",
      "metadata": {
        "id": "fbb3dO05CYXC",
        "colab_type": "code",
        "outputId": "fc3b9fdd-fa0d-416a-c350-55a331dca0b8",
        "colab": {
          "base_uri": "https://localhost:8080/",
          "height": 204
        }
      },
      "source": [
        "df.head()   "
      ],
      "execution_count": 3,
      "outputs": [
        {
          "output_type": "execute_result",
          "data": {
            "text/html": [
              "<div>\n",
              "<style scoped>\n",
              "    .dataframe tbody tr th:only-of-type {\n",
              "        vertical-align: middle;\n",
              "    }\n",
              "\n",
              "    .dataframe tbody tr th {\n",
              "        vertical-align: top;\n",
              "    }\n",
              "\n",
              "    .dataframe thead th {\n",
              "        text-align: right;\n",
              "    }\n",
              "</style>\n",
              "<table border=\"1\" class=\"dataframe\">\n",
              "  <thead>\n",
              "    <tr style=\"text-align: right;\">\n",
              "      <th></th>\n",
              "      <th>age</th>\n",
              "      <th>sex</th>\n",
              "      <th>bmi</th>\n",
              "      <th>children</th>\n",
              "      <th>smoker</th>\n",
              "      <th>region</th>\n",
              "      <th>charges</th>\n",
              "      <th>bmi_status</th>\n",
              "      <th>AgeInterval</th>\n",
              "    </tr>\n",
              "  </thead>\n",
              "  <tbody>\n",
              "    <tr>\n",
              "      <th>0</th>\n",
              "      <td>19</td>\n",
              "      <td>female</td>\n",
              "      <td>27.900</td>\n",
              "      <td>0</td>\n",
              "      <td>True</td>\n",
              "      <td>southwest</td>\n",
              "      <td>16884.92400</td>\n",
              "      <td>overweight</td>\n",
              "      <td>(15, 25]</td>\n",
              "    </tr>\n",
              "    <tr>\n",
              "      <th>1</th>\n",
              "      <td>18</td>\n",
              "      <td>male</td>\n",
              "      <td>33.770</td>\n",
              "      <td>1</td>\n",
              "      <td>False</td>\n",
              "      <td>southeast</td>\n",
              "      <td>1725.55230</td>\n",
              "      <td>obesity</td>\n",
              "      <td>(15, 25]</td>\n",
              "    </tr>\n",
              "    <tr>\n",
              "      <th>2</th>\n",
              "      <td>28</td>\n",
              "      <td>male</td>\n",
              "      <td>33.000</td>\n",
              "      <td>3</td>\n",
              "      <td>False</td>\n",
              "      <td>southeast</td>\n",
              "      <td>4449.46200</td>\n",
              "      <td>obesity</td>\n",
              "      <td>(25, 45]</td>\n",
              "    </tr>\n",
              "    <tr>\n",
              "      <th>3</th>\n",
              "      <td>33</td>\n",
              "      <td>male</td>\n",
              "      <td>22.705</td>\n",
              "      <td>0</td>\n",
              "      <td>False</td>\n",
              "      <td>northwest</td>\n",
              "      <td>21984.47061</td>\n",
              "      <td>ideal</td>\n",
              "      <td>(25, 45]</td>\n",
              "    </tr>\n",
              "    <tr>\n",
              "      <th>4</th>\n",
              "      <td>32</td>\n",
              "      <td>male</td>\n",
              "      <td>28.880</td>\n",
              "      <td>0</td>\n",
              "      <td>False</td>\n",
              "      <td>northwest</td>\n",
              "      <td>3866.85520</td>\n",
              "      <td>overweight</td>\n",
              "      <td>(25, 45]</td>\n",
              "    </tr>\n",
              "  </tbody>\n",
              "</table>\n",
              "</div>"
            ],
            "text/plain": [
              "   age     sex     bmi  ...      charges  bmi_status AgeInterval\n",
              "0   19  female  27.900  ...  16884.92400  overweight    (15, 25]\n",
              "1   18    male  33.770  ...   1725.55230     obesity    (15, 25]\n",
              "2   28    male  33.000  ...   4449.46200     obesity    (25, 45]\n",
              "3   33    male  22.705  ...  21984.47061       ideal    (25, 45]\n",
              "4   32    male  28.880  ...   3866.85520  overweight    (25, 45]\n",
              "\n",
              "[5 rows x 9 columns]"
            ]
          },
          "metadata": {
            "tags": []
          },
          "execution_count": 3
        }
      ]
    },
    {
      "cell_type": "code",
      "metadata": {
        "id": "8Pg0uBG11nC7",
        "colab_type": "code",
        "colab": {}
      },
      "source": [
        "X = df.iloc[:, :6].values\n",
        "y = df.iloc[:, 6].values"
      ],
      "execution_count": 0,
      "outputs": []
    },
    {
      "cell_type": "code",
      "metadata": {
        "id": "u7q86OcG2Ait",
        "colab_type": "code",
        "outputId": "f91b4524-1d43-4f8c-9a8d-8ef947f1241b",
        "colab": {
          "base_uri": "https://localhost:8080/",
          "height": 136
        }
      },
      "source": [
        "print(X)"
      ],
      "execution_count": 5,
      "outputs": [
        {
          "output_type": "stream",
          "text": [
            "[[19 'female' 27.9 0 True 'southwest']\n",
            " [18 'male' 33.77 1 False 'southeast']\n",
            " [28 'male' 33.0 3 False 'southeast']\n",
            " ...\n",
            " [18 'female' 36.85 0 False 'southeast']\n",
            " [21 'female' 25.8 0 False 'southwest']\n",
            " [61 'female' 29.07 0 True 'northwest']]\n"
          ],
          "name": "stdout"
        }
      ]
    },
    {
      "cell_type": "code",
      "metadata": {
        "id": "6r4KHQVP2Fd9",
        "colab_type": "code",
        "outputId": "13f53d6e-9769-4fd2-d9a2-9a81ca75e2d0",
        "colab": {
          "base_uri": "https://localhost:8080/",
          "height": 34
        }
      },
      "source": [
        "print(y)"
      ],
      "execution_count": 6,
      "outputs": [
        {
          "output_type": "stream",
          "text": [
            "[16884.924   1725.5523  4449.462  ...  1629.8335  2007.945  29141.3603]\n"
          ],
          "name": "stdout"
        }
      ]
    },
    {
      "cell_type": "code",
      "metadata": {
        "id": "8ojz9A7Q2OKj",
        "colab_type": "code",
        "colab": {}
      },
      "source": [
        "# encoding categorical data\n",
        "from sklearn.compose import ColumnTransformer\n",
        "from sklearn.preprocessing import OneHotEncoder\n",
        "\n",
        "ct = ColumnTransformer(transformers=[('encoder', OneHotEncoder(drop='first'), [1,4,5])], remainder='passthrough')\n",
        "X = ct.fit_transform(X)"
      ],
      "execution_count": 0,
      "outputs": []
    },
    {
      "cell_type": "code",
      "metadata": {
        "id": "kwVSxs9aSz2G",
        "colab_type": "code",
        "outputId": "6b9820d7-6a4e-4614-b24c-ff4fd6d8bfe1",
        "colab": {
          "base_uri": "https://localhost:8080/",
          "height": 102
        }
      },
      "source": [
        "print(X[:5])"
      ],
      "execution_count": 8,
      "outputs": [
        {
          "output_type": "stream",
          "text": [
            "[[0.0 1.0 0.0 0.0 1.0 19 27.9 0]\n",
            " [1.0 0.0 0.0 1.0 0.0 18 33.77 1]\n",
            " [1.0 0.0 0.0 1.0 0.0 28 33.0 3]\n",
            " [1.0 0.0 1.0 0.0 0.0 33 22.705 0]\n",
            " [1.0 0.0 1.0 0.0 0.0 32 28.88 0]]\n"
          ],
          "name": "stdout"
        }
      ]
    },
    {
      "cell_type": "code",
      "metadata": {
        "id": "HE5F1pNWPKI8",
        "colab_type": "code",
        "colab": {}
      },
      "source": [
        "# Implementing automated Backward Elimination with Adjusted R-square\n",
        "from statsmodels.regression.linear_model import OLS\n",
        "from statsmodels.tools.tools import add_constant\n",
        "X = add_constant(X)\n",
        "X = X.astype(float)          "
      ],
      "execution_count": 0,
      "outputs": []
    },
    {
      "cell_type": "code",
      "metadata": {
        "id": "PcTKI1Jjfh48",
        "colab_type": "code",
        "colab": {}
      },
      "source": [
        "def backwardElimination(X,y,sl):\n",
        "  global X_cat_track\n",
        "  X_cat_track = np.arange(len(X[0]))\n",
        "\n",
        "  for i in range(0, len(X[0])):\n",
        "    \n",
        "    regressor_OLS = OLS(y, X).fit()\n",
        "    maxPval = max(regressor_OLS.pvalues).astype(float)\n",
        "    maxParg = np.argmax(regressor_OLS.pvalues)\n",
        "    adjR2 = regressor_OLS.rsquared_adj.astype(float)\n",
        "    \n",
        "    if maxPval > sl :\n",
        "      # try backward elimination\n",
        "      X_temp = X\n",
        "      X_temp = np.delete(X_temp, maxParg, 1)\n",
        "      regressor_OLS_temp = OLS(y, X_temp).fit()\n",
        "      adjR2_temp = regressor_OLS_temp.rsquared_adj.astype(float)\n",
        "\n",
        "      if adjR2 >= adjR2_temp:\n",
        "        # not apply backward elimination\n",
        "        print(regressor_OLS.summary())\n",
        "        return (X, regressor_OLS)\n",
        "      else:\n",
        "        # apply backward elimination and continue\n",
        "        X = np.delete(X, maxParg, 1)\n",
        "        X_cat_track = np.delete(X_cat_track, maxParg,0)\n",
        "    else:\n",
        "      print(regressor_OLS.summary())\n",
        "      return (X, regressor_OLS)"
      ],
      "execution_count": 0,
      "outputs": []
    },
    {
      "cell_type": "code",
      "metadata": {
        "id": "6T_8Fsv1fvtS",
        "colab_type": "code",
        "outputId": "f135ddfd-dc86-481f-91c9-79f7f5677a5a",
        "colab": {
          "base_uri": "https://localhost:8080/",
          "height": 527
        }
      },
      "source": [
        "X_opt, regressor_OLS = backwardElimination(X,y,0.05)"
      ],
      "execution_count": 39,
      "outputs": [
        {
          "output_type": "stream",
          "text": [
            "                            OLS Regression Results                            \n",
            "==============================================================================\n",
            "Dep. Variable:                      y   R-squared:                       0.751\n",
            "Model:                            OLS   Adj. R-squared:                  0.750\n",
            "Method:                 Least Squares   F-statistic:                     668.3\n",
            "Date:                Sun, 10 May 2020   Prob (F-statistic):               0.00\n",
            "Time:                        05:17:14   Log-Likelihood:                -13548.\n",
            "No. Observations:                1338   AIC:                         2.711e+04\n",
            "Df Residuals:                    1331   BIC:                         2.715e+04\n",
            "Df Model:                           6                                         \n",
            "Covariance Type:            nonrobust                                         \n",
            "==============================================================================\n",
            "                 coef    std err          t      P>|t|      [0.025      0.975]\n",
            "------------------------------------------------------------------------------\n",
            "const      -1.217e+04    949.538    -12.812      0.000    -1.4e+04   -1.03e+04\n",
            "x1          2.384e+04    411.659     57.921      0.000     2.3e+04    2.47e+04\n",
            "x2          -858.4696    415.206     -2.068      0.039   -1672.998     -43.941\n",
            "x3          -782.7452    413.756     -1.892      0.059   -1594.430      28.940\n",
            "x4           257.0064     11.889     21.617      0.000     233.683     280.330\n",
            "x5           338.6413     28.554     11.860      0.000     282.625     394.657\n",
            "x6           471.5441    137.656      3.426      0.001     201.498     741.590\n",
            "==============================================================================\n",
            "Omnibus:                      300.125   Durbin-Watson:                   2.092\n",
            "Prob(Omnibus):                  0.000   Jarque-Bera (JB):              716.587\n",
            "Skew:                           1.211   Prob(JB):                    2.48e-156\n",
            "Kurtosis:                       5.643   Cond. No.                         295.\n",
            "==============================================================================\n",
            "\n",
            "Warnings:\n",
            "[1] Standard Errors assume that the covariance matrix of the errors is correctly specified.\n"
          ],
          "name": "stdout"
        }
      ]
    },
    {
      "cell_type": "code",
      "metadata": {
        "id": "Phz7ILhkxI2K",
        "colab_type": "code",
        "outputId": "e8784be1-3688-4413-9fb9-1e121226566e",
        "colab": {
          "base_uri": "https://localhost:8080/",
          "height": 51
        }
      },
      "source": [
        "# figuring out remaining components of X\n",
        "\n",
        "enc_group = len(ct.named_transformers_['encoder'].categories_)\n",
        "X_categories = ['constant']\n",
        "for i in range(enc_group):\n",
        "  catielem = len(ct.named_transformers_['encoder'].categories_[i])\n",
        "  for j in range(1,catielem):\n",
        "    X_categories.append(ct.named_transformers_['encoder'].categories_[i][j])\n",
        "X_categories.extend(['age','bmi','children'])\n",
        "X_categories = np.array(X_categories)\n",
        "X_categories\n",
        "\n",
        "X_categories[X_cat_track.tolist()]"
      ],
      "execution_count": 40,
      "outputs": [
        {
          "output_type": "execute_result",
          "data": {
            "text/plain": [
              "array(['constant', 'True', 'southeast', 'southwest', 'age', 'bmi',\n",
              "       'children'], dtype='<U9')"
            ]
          },
          "metadata": {
            "tags": []
          },
          "execution_count": 40
        }
      ]
    }
  ]
}