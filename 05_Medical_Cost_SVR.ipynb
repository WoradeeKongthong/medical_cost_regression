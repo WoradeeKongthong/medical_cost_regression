{
  "nbformat": 4,
  "nbformat_minor": 0,
  "metadata": {
    "colab": {
      "name": "05 Medical Cost SVR.ipynb",
      "provenance": [],
      "mount_file_id": "19BBqf7ZjV3AU-EZZgmB-2BolrnxIYn9Z",
      "authorship_tag": "ABX9TyNIGY03MLvB2ba+3+eKZV8l",
      "include_colab_link": true
    },
    "kernelspec": {
      "name": "python3",
      "display_name": "Python 3"
    }
  },
  "cells": [
    {
      "cell_type": "markdown",
      "metadata": {
        "id": "view-in-github",
        "colab_type": "text"
      },
      "source": [
        "<a href=\"https://colab.research.google.com/github/WoradeeKongthong/medical_cost_regression/blob/master/05_Medical_Cost_SVR.ipynb\" target=\"_parent\"><img src=\"https://colab.research.google.com/assets/colab-badge.svg\" alt=\"Open In Colab\"/></a>"
      ]
    },
    {
      "cell_type": "code",
      "metadata": {
        "id": "VSrQqKu9BrHk",
        "colab_type": "code",
        "colab": {}
      },
      "source": [
        "import numpy as np\n",
        "import pandas as pd"
      ],
      "execution_count": 0,
      "outputs": []
    },
    {
      "cell_type": "code",
      "metadata": {
        "id": "bPTGnsFCCIJN",
        "colab_type": "code",
        "colab": {}
      },
      "source": [
        "## Data Preprocessing\n",
        "\n",
        "# importing the dataset\n",
        "df = pd.read_csv('/content/drive/My Drive/life-long learning/MyProjects/Medical Cost/cleaned_insurance.csv', usecols=[0,1,2,3,4,5,6])"
      ],
      "execution_count": 0,
      "outputs": []
    },
    {
      "cell_type": "code",
      "metadata": {
        "id": "fbb3dO05CYXC",
        "colab_type": "code",
        "outputId": "8af281d5-1d66-4ccf-b256-b01403e95223",
        "colab": {
          "base_uri": "https://localhost:8080/",
          "height": 204
        }
      },
      "source": [
        "df.head()"
      ],
      "execution_count": 3,
      "outputs": [
        {
          "output_type": "execute_result",
          "data": {
            "text/html": [
              "<div>\n",
              "<style scoped>\n",
              "    .dataframe tbody tr th:only-of-type {\n",
              "        vertical-align: middle;\n",
              "    }\n",
              "\n",
              "    .dataframe tbody tr th {\n",
              "        vertical-align: top;\n",
              "    }\n",
              "\n",
              "    .dataframe thead th {\n",
              "        text-align: right;\n",
              "    }\n",
              "</style>\n",
              "<table border=\"1\" class=\"dataframe\">\n",
              "  <thead>\n",
              "    <tr style=\"text-align: right;\">\n",
              "      <th></th>\n",
              "      <th>age</th>\n",
              "      <th>sex</th>\n",
              "      <th>bmi</th>\n",
              "      <th>children</th>\n",
              "      <th>smoker</th>\n",
              "      <th>region</th>\n",
              "      <th>charges</th>\n",
              "    </tr>\n",
              "  </thead>\n",
              "  <tbody>\n",
              "    <tr>\n",
              "      <th>0</th>\n",
              "      <td>19</td>\n",
              "      <td>female</td>\n",
              "      <td>27.900</td>\n",
              "      <td>0</td>\n",
              "      <td>True</td>\n",
              "      <td>southwest</td>\n",
              "      <td>16884.92400</td>\n",
              "    </tr>\n",
              "    <tr>\n",
              "      <th>1</th>\n",
              "      <td>18</td>\n",
              "      <td>male</td>\n",
              "      <td>33.770</td>\n",
              "      <td>1</td>\n",
              "      <td>False</td>\n",
              "      <td>southeast</td>\n",
              "      <td>1725.55230</td>\n",
              "    </tr>\n",
              "    <tr>\n",
              "      <th>2</th>\n",
              "      <td>28</td>\n",
              "      <td>male</td>\n",
              "      <td>33.000</td>\n",
              "      <td>3</td>\n",
              "      <td>False</td>\n",
              "      <td>southeast</td>\n",
              "      <td>4449.46200</td>\n",
              "    </tr>\n",
              "    <tr>\n",
              "      <th>3</th>\n",
              "      <td>33</td>\n",
              "      <td>male</td>\n",
              "      <td>22.705</td>\n",
              "      <td>0</td>\n",
              "      <td>False</td>\n",
              "      <td>northwest</td>\n",
              "      <td>21984.47061</td>\n",
              "    </tr>\n",
              "    <tr>\n",
              "      <th>4</th>\n",
              "      <td>32</td>\n",
              "      <td>male</td>\n",
              "      <td>28.880</td>\n",
              "      <td>0</td>\n",
              "      <td>False</td>\n",
              "      <td>northwest</td>\n",
              "      <td>3866.85520</td>\n",
              "    </tr>\n",
              "  </tbody>\n",
              "</table>\n",
              "</div>"
            ],
            "text/plain": [
              "   age     sex     bmi  children  smoker     region      charges\n",
              "0   19  female  27.900         0    True  southwest  16884.92400\n",
              "1   18    male  33.770         1   False  southeast   1725.55230\n",
              "2   28    male  33.000         3   False  southeast   4449.46200\n",
              "3   33    male  22.705         0   False  northwest  21984.47061\n",
              "4   32    male  28.880         0   False  northwest   3866.85520"
            ]
          },
          "metadata": {
            "tags": []
          },
          "execution_count": 3
        }
      ]
    },
    {
      "cell_type": "code",
      "metadata": {
        "id": "8Pg0uBG11nC7",
        "colab_type": "code",
        "colab": {}
      },
      "source": [
        "X = df.iloc[:, :-1].values\n",
        "y = df.iloc[:, -1].values"
      ],
      "execution_count": 0,
      "outputs": []
    },
    {
      "cell_type": "code",
      "metadata": {
        "id": "u7q86OcG2Ait",
        "colab_type": "code",
        "outputId": "f448c835-6adc-4cca-a8f0-31707c8eb640",
        "colab": {
          "base_uri": "https://localhost:8080/",
          "height": 136
        }
      },
      "source": [
        "print(X)"
      ],
      "execution_count": 5,
      "outputs": [
        {
          "output_type": "stream",
          "text": [
            "[[19 'female' 27.9 0 True 'southwest']\n",
            " [18 'male' 33.77 1 False 'southeast']\n",
            " [28 'male' 33.0 3 False 'southeast']\n",
            " ...\n",
            " [18 'female' 36.85 0 False 'southeast']\n",
            " [21 'female' 25.8 0 False 'southwest']\n",
            " [61 'female' 29.07 0 True 'northwest']]\n"
          ],
          "name": "stdout"
        }
      ]
    },
    {
      "cell_type": "code",
      "metadata": {
        "id": "6r4KHQVP2Fd9",
        "colab_type": "code",
        "outputId": "68e262c4-ff41-4a9d-d00e-daf0852633a4",
        "colab": {
          "base_uri": "https://localhost:8080/",
          "height": 34
        }
      },
      "source": [
        "print(y)"
      ],
      "execution_count": 6,
      "outputs": [
        {
          "output_type": "stream",
          "text": [
            "[16884.924   1725.5523  4449.462  ...  1629.8335  2007.945  29141.3603]\n"
          ],
          "name": "stdout"
        }
      ]
    },
    {
      "cell_type": "code",
      "metadata": {
        "id": "cmnCEL8Sf-nq",
        "colab_type": "code",
        "colab": {}
      },
      "source": [
        "y = y.reshape(len(y),1)"
      ],
      "execution_count": 0,
      "outputs": []
    },
    {
      "cell_type": "code",
      "metadata": {
        "id": "8ojz9A7Q2OKj",
        "colab_type": "code",
        "colab": {}
      },
      "source": [
        "# encoding categorical data\n",
        "from sklearn.compose import ColumnTransformer\n",
        "from sklearn.preprocessing import OneHotEncoder\n",
        "\n",
        "ct = ColumnTransformer(transformers=[('encoder', OneHotEncoder(drop='first'), [1,4,5])], remainder='passthrough')\n",
        "X = ct.fit_transform(X)"
      ],
      "execution_count": 0,
      "outputs": []
    },
    {
      "cell_type": "code",
      "metadata": {
        "id": "kwVSxs9aSz2G",
        "colab_type": "code",
        "outputId": "3e14f551-6384-4e72-ec43-e016d83142c4",
        "colab": {
          "base_uri": "https://localhost:8080/",
          "height": 102
        }
      },
      "source": [
        "print(X[:5])"
      ],
      "execution_count": 9,
      "outputs": [
        {
          "output_type": "stream",
          "text": [
            "[[0.0 1.0 0.0 0.0 1.0 19 27.9 0]\n",
            " [1.0 0.0 0.0 1.0 0.0 18 33.77 1]\n",
            " [1.0 0.0 0.0 1.0 0.0 28 33.0 3]\n",
            " [1.0 0.0 1.0 0.0 0.0 33 22.705 0]\n",
            " [1.0 0.0 1.0 0.0 0.0 32 28.88 0]]\n"
          ],
          "name": "stdout"
        }
      ]
    },
    {
      "cell_type": "code",
      "metadata": {
        "id": "GkKEeHXv3ufE",
        "colab_type": "code",
        "colab": {}
      },
      "source": [
        "# Splitting the dataset into the Training set and Test set\n",
        "from sklearn.model_selection import train_test_split\n",
        "X_train, X_test, y_train, y_test = train_test_split(X, y, test_size = 0.2)"
      ],
      "execution_count": 0,
      "outputs": []
    },
    {
      "cell_type": "code",
      "metadata": {
        "id": "8mqYy9N-gif3",
        "colab_type": "code",
        "colab": {}
      },
      "source": [
        "# Feature Scaling\n",
        "from sklearn.preprocessing import StandardScaler\n",
        "sc_X = StandardScaler()\n",
        "sc_y = StandardScaler()\n",
        "\n",
        "X_train[:,5:] = sc_X.fit_transform(X_train[:,5:])\n",
        "X_test[:,5:] = sc_X.transform(X_test[:,5:])\n",
        "\n",
        "y_train = sc_y.fit_transform(y_train)"
      ],
      "execution_count": 0,
      "outputs": []
    },
    {
      "cell_type": "code",
      "metadata": {
        "id": "ltxUEXVkHUlF",
        "colab_type": "code",
        "outputId": "f19579ad-d048-4771-f5fd-ef885f5ca368",
        "colab": {
          "base_uri": "https://localhost:8080/",
          "height": 105
        }
      },
      "source": [
        "# Training the SVR model on the Training set\n",
        "from sklearn.svm import SVR\n",
        "\n",
        "regressor = SVR(kernel = 'rbf')\n",
        "regressor.fit(X_train, y_train)"
      ],
      "execution_count": 12,
      "outputs": [
        {
          "output_type": "stream",
          "text": [
            "/usr/local/lib/python3.6/dist-packages/sklearn/utils/validation.py:760: DataConversionWarning: A column-vector y was passed when a 1d array was expected. Please change the shape of y to (n_samples, ), for example using ravel().\n",
            "  y = column_or_1d(y, warn=True)\n"
          ],
          "name": "stderr"
        },
        {
          "output_type": "execute_result",
          "data": {
            "text/plain": [
              "SVR(C=1.0, cache_size=200, coef0=0.0, degree=3, epsilon=0.1, gamma='scale',\n",
              "    kernel='rbf', max_iter=-1, shrinking=True, tol=0.001, verbose=False)"
            ]
          },
          "metadata": {
            "tags": []
          },
          "execution_count": 12
        }
      ]
    },
    {
      "cell_type": "code",
      "metadata": {
        "id": "E0UlBP4xIKJD",
        "colab_type": "code",
        "outputId": "c878792a-17d9-4a26-b3c5-596883f1d62a",
        "colab": {
          "base_uri": "https://localhost:8080/",
          "height": 187
        }
      },
      "source": [
        "# Predicting the Test set results\n",
        "y_pred = sc_y.inverse_transform(regressor.predict(X_test))\n",
        "np.set_printoptions(precision=2)\n",
        "print(np.concatenate((y_pred.reshape(len(y_pred),1), y_test.reshape(len(y_test),1)),1)[:10])"
      ],
      "execution_count": 13,
      "outputs": [
        {
          "output_type": "stream",
          "text": [
            "[[11864.61 26467.1 ]\n",
            " [14669.16 13405.39]\n",
            " [ 5721.32  4391.65]\n",
            " [ 3686.82  3238.44]\n",
            " [28044.83 26109.33]\n",
            " [19762.54 22412.65]\n",
            " [ 4318.93  4185.1 ]\n",
            " [17241.33 16455.71]\n",
            " [ 2402.24  1137.47]\n",
            " [25596.83 23401.31]]\n"
          ],
          "name": "stdout"
        }
      ]
    },
    {
      "cell_type": "code",
      "metadata": {
        "id": "lKPjxSRIKgdU",
        "colab_type": "code",
        "outputId": "bc140173-d45b-47d9-a447-5233790a40db",
        "colab": {
          "base_uri": "https://localhost:8080/",
          "height": 85
        }
      },
      "source": [
        "# Model Evaluation\n",
        "from sklearn.metrics import r2_score, mean_absolute_error, mean_squared_error\n",
        "n = X_test.shape[0]\n",
        "p = X_test.shape[1]\n",
        "r_square = r2_score(y_test, y_pred)\n",
        "adj_r_square = 1 - (1 - r_square) * ((n - 1) / (n - p - 1)) \n",
        "mae = mean_absolute_error(y_test, y_pred)\n",
        "mse = mean_squared_error(y_test, y_pred)\n",
        "\n",
        "print(\"R-square : \",r_square)\n",
        "print(\"Adjusted R-square : \",adj_r_square)\n",
        "print(\"MAE : \", mae)\n",
        "print(\"MSE : \",mse)"
      ],
      "execution_count": 14,
      "outputs": [
        {
          "output_type": "stream",
          "text": [
            "R-square :  0.8315982930075317\n",
            "Adjusted R-square :  0.8263966958803513\n",
            "MAE :  2826.536558649826\n",
            "MSE :  27614896.045824394\n"
          ],
          "name": "stdout"
        }
      ]
    },
    {
      "cell_type": "code",
      "metadata": {
        "id": "jPNpgIiQgxIa",
        "colab_type": "code",
        "colab": {
          "base_uri": "https://localhost:8080/",
          "height": 51
        },
        "outputId": "cd272dc8-e2e8-443e-d00c-8107f0a6c308"
      },
      "source": [
        "# Applying K-Fold Cross Validation\n",
        "from sklearn.model_selection import cross_val_score\n",
        "y_train = y_train.reshape(len(y_train),)\n",
        "accuracies = cross_val_score(estimator = regressor, X = X_train, y = y_train, cv = 10)\n",
        "print(\"Accuracy: {}\".format(accuracies.mean()))\n",
        "print(\"Standard Deviation: {}\".format(accuracies.std()))"
      ],
      "execution_count": 15,
      "outputs": [
        {
          "output_type": "stream",
          "text": [
            "Accuracy: 0.8274151777886016\n",
            "Standard Deviation: 0.05223870493916846\n"
          ],
          "name": "stdout"
        }
      ]
    },
    {
      "cell_type": "code",
      "metadata": {
        "id": "psYU-8e1he65",
        "colab_type": "code",
        "colab": {}
      },
      "source": [
        "# Improving the model\n",
        "\n",
        "# Grid Search\n",
        "from sklearn.model_selection import GridSearchCV\n",
        "parameters = [{'C':[1,10,100],'kernel':['linear']},\n",
        "              {'C':[1,10,100],'kernel':['rbf'],'gamma': [0.1,0.5,0.95]},]\n",
        "grid_search = GridSearchCV(estimator = regressor,\n",
        "                          param_grid = parameters,\n",
        "                          cv = 10)\n",
        "grid_search = grid_search.fit(X_train,y_train)"
      ],
      "execution_count": 0,
      "outputs": []
    },
    {
      "cell_type": "code",
      "metadata": {
        "id": "VX61VK8mn1Kd",
        "colab_type": "code",
        "colab": {
          "base_uri": "https://localhost:8080/",
          "height": 51
        },
        "outputId": "288c412a-40c9-472d-9edd-5335635986fb"
      },
      "source": [
        "best_accuracy = grid_search.best_score_\n",
        "best_parameters = grid_search.best_params_\n",
        "print(\"Best Accuracy : {}\".format(best_accuracy))\n",
        "print(\"Best Parameters : \", best_parameters)"
      ],
      "execution_count": 17,
      "outputs": [
        {
          "output_type": "stream",
          "text": [
            "Best Accuracy : 0.8365272906210421\n",
            "Best Parameters :  {'C': 10, 'gamma': 0.1, 'kernel': 'rbf'}\n"
          ],
          "name": "stdout"
        }
      ]
    }
  ]
}