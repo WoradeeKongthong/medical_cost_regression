{
  "nbformat": 4,
  "nbformat_minor": 0,
  "metadata": {
    "colab": {
      "name": "09_MedicalCost_ANN.ipynb",
      "provenance": [],
      "toc_visible": true,
      "authorship_tag": "ABX9TyNnfWGUsSsUWVHrofdUZsZv",
      "include_colab_link": true
    },
    "kernelspec": {
      "name": "python3",
      "display_name": "Python 3"
    }
  },
  "cells": [
    {
      "cell_type": "markdown",
      "metadata": {
        "id": "view-in-github",
        "colab_type": "text"
      },
      "source": [
        "<a href=\"https://colab.research.google.com/github/WoradeeKongthong/medical_cost_regression/blob/master/09_MedicalCost_ANN.ipynb\" target=\"_parent\"><img src=\"https://colab.research.google.com/assets/colab-badge.svg\" alt=\"Open In Colab\"/></a>"
      ]
    },
    {
      "cell_type": "code",
      "metadata": {
        "id": "O0-D8vy74vZj",
        "colab_type": "code",
        "outputId": "ff985f9a-3f09-462a-b3b9-50e0598acb8e",
        "colab": {
          "base_uri": "https://localhost:8080/",
          "height": 71
        }
      },
      "source": [
        "import numpy as np\n",
        "import pandas as pd\n",
        "import matplotlib.pyplot as plt\n",
        "import seaborn as sns\n"
      ],
      "execution_count": 1,
      "outputs": [
        {
          "output_type": "stream",
          "text": [
            "/usr/local/lib/python3.6/dist-packages/statsmodels/tools/_testing.py:19: FutureWarning: pandas.util.testing is deprecated. Use the functions in the public API at pandas.testing instead.\n",
            "  import pandas.util.testing as tm\n"
          ],
          "name": "stderr"
        }
      ]
    },
    {
      "cell_type": "markdown",
      "metadata": {
        "id": "-j3lYYJ6-APA",
        "colab_type": "text"
      },
      "source": [
        "# Dataset"
      ]
    },
    {
      "cell_type": "code",
      "metadata": {
        "id": "FnAC2Uql5Ook",
        "colab_type": "code",
        "colab": {}
      },
      "source": [
        "df = pd.read_csv('https://raw.githubusercontent.com/WoradeeKongthong/medical_cost_regression/master/insurance.csv')"
      ],
      "execution_count": 0,
      "outputs": []
    },
    {
      "cell_type": "code",
      "metadata": {
        "id": "OJsnnbjW5ZvA",
        "colab_type": "code",
        "outputId": "d4abf1ac-e5ec-430b-8452-0f725dba929c",
        "colab": {
          "base_uri": "https://localhost:8080/",
          "height": 419
        }
      },
      "source": [
        "df"
      ],
      "execution_count": 3,
      "outputs": [
        {
          "output_type": "execute_result",
          "data": {
            "text/html": [
              "<div>\n",
              "<style scoped>\n",
              "    .dataframe tbody tr th:only-of-type {\n",
              "        vertical-align: middle;\n",
              "    }\n",
              "\n",
              "    .dataframe tbody tr th {\n",
              "        vertical-align: top;\n",
              "    }\n",
              "\n",
              "    .dataframe thead th {\n",
              "        text-align: right;\n",
              "    }\n",
              "</style>\n",
              "<table border=\"1\" class=\"dataframe\">\n",
              "  <thead>\n",
              "    <tr style=\"text-align: right;\">\n",
              "      <th></th>\n",
              "      <th>age</th>\n",
              "      <th>sex</th>\n",
              "      <th>bmi</th>\n",
              "      <th>children</th>\n",
              "      <th>smoker</th>\n",
              "      <th>region</th>\n",
              "      <th>charges</th>\n",
              "    </tr>\n",
              "  </thead>\n",
              "  <tbody>\n",
              "    <tr>\n",
              "      <th>0</th>\n",
              "      <td>19</td>\n",
              "      <td>female</td>\n",
              "      <td>27.900</td>\n",
              "      <td>0</td>\n",
              "      <td>yes</td>\n",
              "      <td>southwest</td>\n",
              "      <td>16884.92400</td>\n",
              "    </tr>\n",
              "    <tr>\n",
              "      <th>1</th>\n",
              "      <td>18</td>\n",
              "      <td>male</td>\n",
              "      <td>33.770</td>\n",
              "      <td>1</td>\n",
              "      <td>no</td>\n",
              "      <td>southeast</td>\n",
              "      <td>1725.55230</td>\n",
              "    </tr>\n",
              "    <tr>\n",
              "      <th>2</th>\n",
              "      <td>28</td>\n",
              "      <td>male</td>\n",
              "      <td>33.000</td>\n",
              "      <td>3</td>\n",
              "      <td>no</td>\n",
              "      <td>southeast</td>\n",
              "      <td>4449.46200</td>\n",
              "    </tr>\n",
              "    <tr>\n",
              "      <th>3</th>\n",
              "      <td>33</td>\n",
              "      <td>male</td>\n",
              "      <td>22.705</td>\n",
              "      <td>0</td>\n",
              "      <td>no</td>\n",
              "      <td>northwest</td>\n",
              "      <td>21984.47061</td>\n",
              "    </tr>\n",
              "    <tr>\n",
              "      <th>4</th>\n",
              "      <td>32</td>\n",
              "      <td>male</td>\n",
              "      <td>28.880</td>\n",
              "      <td>0</td>\n",
              "      <td>no</td>\n",
              "      <td>northwest</td>\n",
              "      <td>3866.85520</td>\n",
              "    </tr>\n",
              "    <tr>\n",
              "      <th>...</th>\n",
              "      <td>...</td>\n",
              "      <td>...</td>\n",
              "      <td>...</td>\n",
              "      <td>...</td>\n",
              "      <td>...</td>\n",
              "      <td>...</td>\n",
              "      <td>...</td>\n",
              "    </tr>\n",
              "    <tr>\n",
              "      <th>1333</th>\n",
              "      <td>50</td>\n",
              "      <td>male</td>\n",
              "      <td>30.970</td>\n",
              "      <td>3</td>\n",
              "      <td>no</td>\n",
              "      <td>northwest</td>\n",
              "      <td>10600.54830</td>\n",
              "    </tr>\n",
              "    <tr>\n",
              "      <th>1334</th>\n",
              "      <td>18</td>\n",
              "      <td>female</td>\n",
              "      <td>31.920</td>\n",
              "      <td>0</td>\n",
              "      <td>no</td>\n",
              "      <td>northeast</td>\n",
              "      <td>2205.98080</td>\n",
              "    </tr>\n",
              "    <tr>\n",
              "      <th>1335</th>\n",
              "      <td>18</td>\n",
              "      <td>female</td>\n",
              "      <td>36.850</td>\n",
              "      <td>0</td>\n",
              "      <td>no</td>\n",
              "      <td>southeast</td>\n",
              "      <td>1629.83350</td>\n",
              "    </tr>\n",
              "    <tr>\n",
              "      <th>1336</th>\n",
              "      <td>21</td>\n",
              "      <td>female</td>\n",
              "      <td>25.800</td>\n",
              "      <td>0</td>\n",
              "      <td>no</td>\n",
              "      <td>southwest</td>\n",
              "      <td>2007.94500</td>\n",
              "    </tr>\n",
              "    <tr>\n",
              "      <th>1337</th>\n",
              "      <td>61</td>\n",
              "      <td>female</td>\n",
              "      <td>29.070</td>\n",
              "      <td>0</td>\n",
              "      <td>yes</td>\n",
              "      <td>northwest</td>\n",
              "      <td>29141.36030</td>\n",
              "    </tr>\n",
              "  </tbody>\n",
              "</table>\n",
              "<p>1338 rows × 7 columns</p>\n",
              "</div>"
            ],
            "text/plain": [
              "      age     sex     bmi  children smoker     region      charges\n",
              "0      19  female  27.900         0    yes  southwest  16884.92400\n",
              "1      18    male  33.770         1     no  southeast   1725.55230\n",
              "2      28    male  33.000         3     no  southeast   4449.46200\n",
              "3      33    male  22.705         0     no  northwest  21984.47061\n",
              "4      32    male  28.880         0     no  northwest   3866.85520\n",
              "...   ...     ...     ...       ...    ...        ...          ...\n",
              "1333   50    male  30.970         3     no  northwest  10600.54830\n",
              "1334   18  female  31.920         0     no  northeast   2205.98080\n",
              "1335   18  female  36.850         0     no  southeast   1629.83350\n",
              "1336   21  female  25.800         0     no  southwest   2007.94500\n",
              "1337   61  female  29.070         0    yes  northwest  29141.36030\n",
              "\n",
              "[1338 rows x 7 columns]"
            ]
          },
          "metadata": {
            "tags": []
          },
          "execution_count": 3
        }
      ]
    },
    {
      "cell_type": "code",
      "metadata": {
        "id": "ikBmkOW6J2qe",
        "colab_type": "code",
        "outputId": "fec84b92-fbae-443f-c117-f5c2865cbe39",
        "colab": {
          "base_uri": "https://localhost:8080/",
          "height": 255
        }
      },
      "source": [
        "df.info()"
      ],
      "execution_count": 4,
      "outputs": [
        {
          "output_type": "stream",
          "text": [
            "<class 'pandas.core.frame.DataFrame'>\n",
            "RangeIndex: 1338 entries, 0 to 1337\n",
            "Data columns (total 7 columns):\n",
            " #   Column    Non-Null Count  Dtype  \n",
            "---  ------    --------------  -----  \n",
            " 0   age       1338 non-null   int64  \n",
            " 1   sex       1338 non-null   object \n",
            " 2   bmi       1338 non-null   float64\n",
            " 3   children  1338 non-null   int64  \n",
            " 4   smoker    1338 non-null   object \n",
            " 5   region    1338 non-null   object \n",
            " 6   charges   1338 non-null   float64\n",
            "dtypes: float64(2), int64(2), object(3)\n",
            "memory usage: 73.3+ KB\n"
          ],
          "name": "stdout"
        }
      ]
    },
    {
      "cell_type": "markdown",
      "metadata": {
        "id": "ES6rckXBJ6EU",
        "colab_type": "text"
      },
      "source": [
        "Note :  \n",
        "- Dtypes are correct.\n",
        "- There is no missing values."
      ]
    },
    {
      "cell_type": "markdown",
      "metadata": {
        "id": "4vr2YxPaGZpE",
        "colab_type": "text"
      },
      "source": [
        "See the distribution of the data"
      ]
    },
    {
      "cell_type": "code",
      "metadata": {
        "id": "R3XSD57N0JsG",
        "colab_type": "code",
        "outputId": "5d7516f6-2120-4665-c782-24c240e9870e",
        "colab": {
          "base_uri": "https://localhost:8080/",
          "height": 297
        }
      },
      "source": [
        "rows = 2\n",
        "cols = 4\n",
        "col = df.columns\n",
        "index = 0\n",
        "\n",
        "fig = plt.figure(figsize=(10,4))\n",
        "\n",
        "for i in range(len(col)):\n",
        "    fig.add_subplot(rows, cols, index+1)\n",
        "    df[col[index]].hist()\n",
        "    plt.title(col[index])\n",
        "    index += 1\n",
        "    if index == len(col) : \n",
        "      break\n",
        "\n",
        "plt.tight_layout()"
      ],
      "execution_count": 5,
      "outputs": [
        {
          "output_type": "display_data",
          "data": {
            "image/png": "[encoded data removed]",
            "text/plain": [
              "<Figure size 720x288 with 7 Axes>"
            ]
          },
          "metadata": {
            "tags": [],
            "needs_background": "light"
          }
        }
      ]
    },
    {
      "cell_type": "markdown",
      "metadata": {
        "id": "7u6o8_SD-Cjg",
        "colab_type": "text"
      },
      "source": [
        "# Data Preprocessing"
      ]
    },
    {
      "cell_type": "markdown",
      "metadata": {
        "id": "iwXnie6b-IMW",
        "colab_type": "text"
      },
      "source": [
        "## X and y"
      ]
    },
    {
      "cell_type": "code",
      "metadata": {
        "id": "4PTT82rT53_-",
        "colab_type": "code",
        "colab": {}
      },
      "source": [
        "X = df.iloc[:,:-1]\n",
        "y = df.iloc[:, -1]"
      ],
      "execution_count": 0,
      "outputs": []
    },
    {
      "cell_type": "code",
      "metadata": {
        "id": "jXhOA3EU81Qd",
        "colab_type": "code",
        "outputId": "9e05a779-0253-4b52-8e8e-1f7d2bf63f90",
        "colab": {
          "base_uri": "https://localhost:8080/",
          "height": 419
        }
      },
      "source": [
        "X"
      ],
      "execution_count": 0,
      "outputs": [
        {
          "output_type": "execute_result",
          "data": {
            "text/html": [
              "<div>\n",
              "<style scoped>\n",
              "    .dataframe tbody tr th:only-of-type {\n",
              "        vertical-align: middle;\n",
              "    }\n",
              "\n",
              "    .dataframe tbody tr th {\n",
              "        vertical-align: top;\n",
              "    }\n",
              "\n",
              "    .dataframe thead th {\n",
              "        text-align: right;\n",
              "    }\n",
              "</style>\n",
              "<table border=\"1\" class=\"dataframe\">\n",
              "  <thead>\n",
              "    <tr style=\"text-align: right;\">\n",
              "      <th></th>\n",
              "      <th>age</th>\n",
              "      <th>sex</th>\n",
              "      <th>bmi</th>\n",
              "      <th>children</th>\n",
              "      <th>smoker</th>\n",
              "      <th>region</th>\n",
              "    </tr>\n",
              "  </thead>\n",
              "  <tbody>\n",
              "    <tr>\n",
              "      <th>0</th>\n",
              "      <td>19</td>\n",
              "      <td>female</td>\n",
              "      <td>27.900</td>\n",
              "      <td>0</td>\n",
              "      <td>yes</td>\n",
              "      <td>southwest</td>\n",
              "    </tr>\n",
              "    <tr>\n",
              "      <th>1</th>\n",
              "      <td>18</td>\n",
              "      <td>male</td>\n",
              "      <td>33.770</td>\n",
              "      <td>1</td>\n",
              "      <td>no</td>\n",
              "      <td>southeast</td>\n",
              "    </tr>\n",
              "    <tr>\n",
              "      <th>2</th>\n",
              "      <td>28</td>\n",
              "      <td>male</td>\n",
              "      <td>33.000</td>\n",
              "      <td>3</td>\n",
              "      <td>no</td>\n",
              "      <td>southeast</td>\n",
              "    </tr>\n",
              "    <tr>\n",
              "      <th>3</th>\n",
              "      <td>33</td>\n",
              "      <td>male</td>\n",
              "      <td>22.705</td>\n",
              "      <td>0</td>\n",
              "      <td>no</td>\n",
              "      <td>northwest</td>\n",
              "    </tr>\n",
              "    <tr>\n",
              "      <th>4</th>\n",
              "      <td>32</td>\n",
              "      <td>male</td>\n",
              "      <td>28.880</td>\n",
              "      <td>0</td>\n",
              "      <td>no</td>\n",
              "      <td>northwest</td>\n",
              "    </tr>\n",
              "    <tr>\n",
              "      <th>...</th>\n",
              "      <td>...</td>\n",
              "      <td>...</td>\n",
              "      <td>...</td>\n",
              "      <td>...</td>\n",
              "      <td>...</td>\n",
              "      <td>...</td>\n",
              "    </tr>\n",
              "    <tr>\n",
              "      <th>1333</th>\n",
              "      <td>50</td>\n",
              "      <td>male</td>\n",
              "      <td>30.970</td>\n",
              "      <td>3</td>\n",
              "      <td>no</td>\n",
              "      <td>northwest</td>\n",
              "    </tr>\n",
              "    <tr>\n",
              "      <th>1334</th>\n",
              "      <td>18</td>\n",
              "      <td>female</td>\n",
              "      <td>31.920</td>\n",
              "      <td>0</td>\n",
              "      <td>no</td>\n",
              "      <td>northeast</td>\n",
              "    </tr>\n",
              "    <tr>\n",
              "      <th>1335</th>\n",
              "      <td>18</td>\n",
              "      <td>female</td>\n",
              "      <td>36.850</td>\n",
              "      <td>0</td>\n",
              "      <td>no</td>\n",
              "      <td>southeast</td>\n",
              "    </tr>\n",
              "    <tr>\n",
              "      <th>1336</th>\n",
              "      <td>21</td>\n",
              "      <td>female</td>\n",
              "      <td>25.800</td>\n",
              "      <td>0</td>\n",
              "      <td>no</td>\n",
              "      <td>southwest</td>\n",
              "    </tr>\n",
              "    <tr>\n",
              "      <th>1337</th>\n",
              "      <td>61</td>\n",
              "      <td>female</td>\n",
              "      <td>29.070</td>\n",
              "      <td>0</td>\n",
              "      <td>yes</td>\n",
              "      <td>northwest</td>\n",
              "    </tr>\n",
              "  </tbody>\n",
              "</table>\n",
              "<p>1338 rows × 6 columns</p>\n",
              "</div>"
            ],
            "text/plain": [
              "      age     sex     bmi  children smoker     region\n",
              "0      19  female  27.900         0    yes  southwest\n",
              "1      18    male  33.770         1     no  southeast\n",
              "2      28    male  33.000         3     no  southeast\n",
              "3      33    male  22.705         0     no  northwest\n",
              "4      32    male  28.880         0     no  northwest\n",
              "...   ...     ...     ...       ...    ...        ...\n",
              "1333   50    male  30.970         3     no  northwest\n",
              "1334   18  female  31.920         0     no  northeast\n",
              "1335   18  female  36.850         0     no  southeast\n",
              "1336   21  female  25.800         0     no  southwest\n",
              "1337   61  female  29.070         0    yes  northwest\n",
              "\n",
              "[1338 rows x 6 columns]"
            ]
          },
          "metadata": {
            "tags": []
          },
          "execution_count": 7
        }
      ]
    },
    {
      "cell_type": "code",
      "metadata": {
        "id": "3sElVM1K8102",
        "colab_type": "code",
        "outputId": "1d307a03-9954-45c2-c607-c975a67d10fe",
        "colab": {
          "base_uri": "https://localhost:8080/",
          "height": 221
        }
      },
      "source": [
        "y"
      ],
      "execution_count": 0,
      "outputs": [
        {
          "output_type": "execute_result",
          "data": {
            "text/plain": [
              "0       16884.92400\n",
              "1        1725.55230\n",
              "2        4449.46200\n",
              "3       21984.47061\n",
              "4        3866.85520\n",
              "           ...     \n",
              "1333    10600.54830\n",
              "1334     2205.98080\n",
              "1335     1629.83350\n",
              "1336     2007.94500\n",
              "1337    29141.36030\n",
              "Name: charges, Length: 1338, dtype: float64"
            ]
          },
          "metadata": {
            "tags": []
          },
          "execution_count": 8
        }
      ]
    },
    {
      "cell_type": "markdown",
      "metadata": {
        "id": "GzzZTe4S-LHJ",
        "colab_type": "text"
      },
      "source": [
        "## Encoding categorical data"
      ]
    },
    {
      "cell_type": "code",
      "metadata": {
        "id": "9L2SNpfH82kX",
        "colab_type": "code",
        "colab": {}
      },
      "source": [
        "from sklearn.compose import ColumnTransformer\n",
        "from sklearn.preprocessing import OneHotEncoder, StandardScaler"
      ],
      "execution_count": 0,
      "outputs": []
    },
    {
      "cell_type": "code",
      "metadata": {
        "id": "iu89MA359PXg",
        "colab_type": "code",
        "colab": {}
      },
      "source": [
        "# OneHotEncoder on 'sex', 'smoker' and 'region' columns'\n",
        "ct = ColumnTransformer(transformers=[\n",
        "                                     ('encoder', OneHotEncoder(drop='first'),['sex','smoker','region']),\n",
        "                                     ('scaler', StandardScaler(),['bmi'])]\n",
        "                       ,remainder='passthrough')\n",
        "X = ct.fit_transform(X)"
      ],
      "execution_count": 0,
      "outputs": []
    },
    {
      "cell_type": "code",
      "metadata": {
        "id": "OY6p_0Vd94UI",
        "colab_type": "code",
        "outputId": "db61433c-0ec7-4e96-f94b-b0c372ce5ead",
        "colab": {
          "base_uri": "https://localhost:8080/",
          "height": 204
        }
      },
      "source": [
        "print('X shape : ',X.shape)\n",
        "X[:5]"
      ],
      "execution_count": 0,
      "outputs": [
        {
          "output_type": "stream",
          "text": [
            "X shape :  (1338, 8)\n"
          ],
          "name": "stdout"
        },
        {
          "output_type": "execute_result",
          "data": {
            "text/plain": [
              "array([[ 0.        ,  1.        ,  0.        ,  0.        ,  1.        ,\n",
              "        -0.45332   , 19.        ,  0.        ],\n",
              "       [ 1.        ,  0.        ,  0.        ,  1.        ,  0.        ,\n",
              "         0.5096211 , 18.        ,  1.        ],\n",
              "       [ 1.        ,  0.        ,  0.        ,  1.        ,  0.        ,\n",
              "         0.38330685, 28.        ,  3.        ],\n",
              "       [ 1.        ,  0.        ,  1.        ,  0.        ,  0.        ,\n",
              "        -1.30553108, 33.        ,  0.        ],\n",
              "       [ 1.        ,  0.        ,  1.        ,  0.        ,  0.        ,\n",
              "        -0.29255641, 32.        ,  0.        ]])"
            ]
          },
          "metadata": {
            "tags": []
          },
          "execution_count": 11
        }
      ]
    },
    {
      "cell_type": "markdown",
      "metadata": {
        "id": "TrPuaTB35RKQ",
        "colab_type": "text"
      },
      "source": [
        "## Train-Test sets"
      ]
    },
    {
      "cell_type": "code",
      "metadata": {
        "id": "9I9fOX_I5Qqf",
        "colab_type": "code",
        "colab": {}
      },
      "source": [
        "from sklearn.model_selection import train_test_split\n",
        "X_train, X_test, y_train, y_test = train_test_split(X,y,test_size=0.2)"
      ],
      "execution_count": 0,
      "outputs": []
    },
    {
      "cell_type": "markdown",
      "metadata": {
        "id": "K7CCHXCO_Dwl",
        "colab_type": "text"
      },
      "source": [
        "# ANN"
      ]
    },
    {
      "cell_type": "code",
      "metadata": {
        "id": "G2ObpEUHQjUS",
        "colab_type": "code",
        "outputId": "3b68e73c-9eb5-412c-af1e-c1e21a9f399c",
        "colab": {
          "base_uri": "https://localhost:8080/",
          "height": 34
        }
      },
      "source": [
        "from keras.models import Sequential\n",
        "from keras.layers import Dense\n",
        "import keras"
      ],
      "execution_count": 10,
      "outputs": [
        {
          "output_type": "stream",
          "text": [
            "Using TensorFlow backend.\n"
          ],
          "name": "stderr"
        }
      ]
    },
    {
      "cell_type": "markdown",
      "metadata": {
        "id": "OxFprC8WhY9q",
        "colab_type": "text"
      },
      "source": [
        "## Find the ANN Architecture."
      ]
    },
    {
      "cell_type": "markdown",
      "metadata": {
        "id": "daCuqKjocPoy",
        "colab_type": "text"
      },
      "source": [
        "### Simple ANN : one hidden layer"
      ]
    },
    {
      "cell_type": "code",
      "metadata": {
        "id": "O8uS0kjk_N9Y",
        "colab_type": "code",
        "outputId": "0382ccc2-0e43-4c8b-8ac5-06d6c3b8e21c",
        "colab": {
          "base_uri": "https://localhost:8080/",
          "height": 331
        }
      },
      "source": [
        "# create the ANN\n",
        "regressor = Sequential()\n",
        "regressor.add(Dense(units=8,kernel_initializer='normal',activation='relu',input_dim=8))\n",
        "regressor.add(Dense(units=1,kernel_initializer='normal'))\n",
        "\n",
        "# compile the ANN\n",
        "regressor.compile(optimizer='adam', loss='mean_squared_error', metrics=[keras.metrics.RootMeanSquaredError()])\n",
        "\n",
        "# train the model with automatic varification dataset (training vs validation set)\n",
        "history = regressor.fit(X_train, y_train, validation_split=0.2, batch_size=10, epochs=150, verbose=0)\n",
        "\n",
        "# function for showing the evaluation of the model\n",
        "def evaluate_model(history):\n",
        "  # print final metrics for training and validation sets\n",
        "  print('Training RMSE : ', history.history['root_mean_squared_error'][-1])\n",
        "  print('Validation RMSE : ', history.history['val_root_mean_squared_error'][-1])\n",
        "\n",
        "  fig= plt.figure(figsize=(12,4))\n",
        "  # plot the model evaluation\n",
        "  fig.add_subplot(121)\n",
        "  plt.plot(history.history['root_mean_squared_error'])\n",
        "  plt.plot(history.history['val_root_mean_squared_error'])\n",
        "  plt.title('RMSE')\n",
        "  plt.ylabel('RMSE')\n",
        "  plt.xlabel('epoch')\n",
        "  plt.legend(['training set', 'validation set'], loc='upper right')\n",
        "\n",
        "  # plot the model loss\n",
        "  fig.add_subplot(122)\n",
        "  plt.plot(history.history['loss'])\n",
        "  plt.plot(history.history['val_loss'])\n",
        "  plt.title('loss')\n",
        "  plt.ylabel('loss')\n",
        "  plt.xlabel('epoch')\n",
        "  plt.legend(['training set', 'validation set'], loc='upper right')\n",
        "  \n",
        "  fig.tight_layout()\n",
        "  plt.show()\n",
        "\n",
        "evaluate_model(history)"
      ],
      "execution_count": 13,
      "outputs": [
        {
          "output_type": "stream",
          "text": [
            "Training RMSE :  11389.667\n",
            "Validation RMSE :  11642.2265625\n"
          ],
          "name": "stdout"
        },
        {
          "output_type": "display_data",
          "data": {
            "image/png": "[encoded data removed]",
            "text/plain": [
              "<Figure size 864x288 with 2 Axes>"
            ]
          },
          "metadata": {
            "tags": [],
            "needs_background": "light"
          }
        }
      ]
    },
    {
      "cell_type": "markdown",
      "metadata": {
        "id": "_zhuPNzzxHXm",
        "colab_type": "text"
      },
      "source": [
        "Note :  \n",
        "- the model is low bias and low variance."
      ]
    },
    {
      "cell_type": "markdown",
      "metadata": {
        "id": "4NODWAKiVuK6",
        "colab_type": "text"
      },
      "source": [
        "### Try one hidden layer with a lot of neurons (wide)"
      ]
    },
    {
      "cell_type": "code",
      "metadata": {
        "id": "AUZS7gp2c28b",
        "colab_type": "code",
        "outputId": "1da1f896-7198-4498-c941-9cd540986387",
        "colab": {
          "base_uri": "https://localhost:8080/",
          "height": 331
        }
      },
      "source": [
        "# create the ANN\n",
        "regressor = Sequential()\n",
        "regressor.add(Dense(units=16,kernel_initializer='normal',activation='relu',input_dim=8))\n",
        "regressor.add(Dense(units=1,kernel_initializer='normal'))\n",
        "\n",
        "# compile the ANN\n",
        "regressor.compile(optimizer='adam', loss='mean_squared_error', metrics=[keras.metrics.RootMeanSquaredError()])\n",
        "\n",
        "# train the model with automatic varification dataset (training vs validation set)\n",
        "history = regressor.fit(X_train, y_train, validation_split=0.2, batch_size=10, epochs=150, verbose=0)\n",
        "evaluate_model(history)"
      ],
      "execution_count": 14,
      "outputs": [
        {
          "output_type": "stream",
          "text": [
            "Training RMSE :  11304.878\n",
            "Validation RMSE :  11578.13671875\n"
          ],
          "name": "stdout"
        },
        {
          "output_type": "display_data",
          "data": {
            "image/png": "[encoded data removed]",
            "text/plain": [
              "<Figure size 864x288 with 2 Axes>"
            ]
          },
          "metadata": {
            "tags": [],
            "needs_background": "light"
          }
        }
      ]
    },
    {
      "cell_type": "markdown",
      "metadata": {
        "id": "i4eLHYXzjKMk",
        "colab_type": "text"
      },
      "source": [
        "Note :  \n",
        "- The model is low bias and low variance.\n",
        "- It's performance is not different from the simple one.  \n",
        "- But it converges a little faster."
      ]
    },
    {
      "cell_type": "markdown",
      "metadata": {
        "id": "HjJpOsMLdTtU",
        "colab_type": "text"
      },
      "source": [
        "### Try a deep network with few neurons per layer (deep)."
      ]
    },
    {
      "cell_type": "code",
      "metadata": {
        "id": "SME4UdLqdLv9",
        "colab_type": "code",
        "outputId": "df03dceb-0d7d-49d4-9dd6-c2ca885097da",
        "colab": {
          "base_uri": "https://localhost:8080/",
          "height": 331
        }
      },
      "source": [
        "# create the ANN\n",
        "regressor = Sequential()\n",
        "regressor.add(Dense(units=8,kernel_initializer='normal',activation='relu',input_dim=8))\n",
        "regressor.add(Dense(units=5,kernel_initializer='normal',activation='relu'))\n",
        "regressor.add(Dense(units=1,kernel_initializer='normal'))\n",
        "\n",
        "# compile the ANN\n",
        "regressor.compile(optimizer='adam', loss='mean_squared_error', metrics=[keras.metrics.RootMeanSquaredError()])\n",
        "\n",
        "# train the model with automatic varification dataset (training vs validation set)\n",
        "history = regressor.fit(X_train, y_train, validation_split=0.2, batch_size=10, epochs=150, verbose=0)\n",
        "evaluate_model(history)"
      ],
      "execution_count": 15,
      "outputs": [
        {
          "output_type": "stream",
          "text": [
            "Training RMSE :  11279.838\n",
            "Validation RMSE :  11558.248046875\n"
          ],
          "name": "stdout"
        },
        {
          "output_type": "display_data",
          "data": {
            "image/png": "[encoded data removed]",
            "text/plain": [
              "<Figure size 864x288 with 2 Axes>"
            ]
          },
          "metadata": {
            "tags": [],
            "needs_background": "light"
          }
        }
      ]
    },
    {
      "cell_type": "markdown",
      "metadata": {
        "id": "xlGTBGNvj6bf",
        "colab_type": "text"
      },
      "source": [
        "Note :  \n",
        "- The model is low bias and low variance.\n",
        "- The deeper model converges faster."
      ]
    },
    {
      "cell_type": "markdown",
      "metadata": {
        "id": "F1GxEd0FeAa_",
        "colab_type": "text"
      },
      "source": [
        "### Try wide and deep hidden layers."
      ]
    },
    {
      "cell_type": "code",
      "metadata": {
        "id": "UyPA2oNCeEnF",
        "colab_type": "code",
        "outputId": "c3f02b98-9c44-4a58-be1b-1a11818cc51f",
        "colab": {
          "base_uri": "https://localhost:8080/",
          "height": 331
        }
      },
      "source": [
        "# create the ANN\n",
        "regressor = Sequential()\n",
        "regressor.add(Dense(units=16,kernel_initializer='normal',activation='relu',input_dim=8))\n",
        "regressor.add(Dense(units=12,kernel_initializer='normal',activation='relu'))\n",
        "regressor.add(Dense(units=8,kernel_initializer='normal',activation='relu'))\n",
        "regressor.add(Dense(units=4,kernel_initializer='normal',activation='relu'))\n",
        "regressor.add(Dense(units=1,kernel_initializer='normal'))\n",
        "\n",
        "# compile the ANN\n",
        "regressor.compile(optimizer='adam', loss='mean_squared_error', metrics=[keras.metrics.RootMeanSquaredError()])\n",
        "\n",
        "# train the model with automatic varification dataset (training vs validation set)\n",
        "history = regressor.fit(X_train, y_train, validation_split=0.2, batch_size=10, epochs=150, verbose=0)\n",
        "evaluate_model(history)"
      ],
      "execution_count": 16,
      "outputs": [
        {
          "output_type": "stream",
          "text": [
            "Training RMSE :  6110.043\n",
            "Validation RMSE :  6584.94140625\n"
          ],
          "name": "stdout"
        },
        {
          "output_type": "display_data",
          "data": {
            "image/png": "[encoded data removed]",
            "text/plain": [
              "<Figure size 864x288 with 2 Axes>"
            ]
          },
          "metadata": {
            "tags": [],
            "needs_background": "light"
          }
        }
      ]
    },
    {
      "cell_type": "markdown",
      "metadata": {
        "id": "5hXWjfQWkPYH",
        "colab_type": "text"
      },
      "source": [
        "Note :  \n",
        "- Wider and deeper model find the other minimun."
      ]
    },
    {
      "cell_type": "markdown",
      "metadata": {
        "id": "F2lurKr-gSMG",
        "colab_type": "text"
      },
      "source": [
        "## Hyperparameter tuning with GridSearchCV\n",
        "Now I realized that using a wider and deeper model is helpful.  \n",
        "Let's tune the hyperparameters on this ANN, kernel_initializer and optimizer in this case."
      ]
    },
    {
      "cell_type": "code",
      "metadata": {
        "id": "0M6v6Y6z7-Q_",
        "colab_type": "code",
        "colab": {}
      },
      "source": [
        "from sklearn.model_selection import GridSearchCV\n",
        "from sklearn.metrics import mean_squared_error\n",
        "from keras.wrappers.scikit_learn import KerasRegressor"
      ],
      "execution_count": 0,
      "outputs": []
    },
    {
      "cell_type": "code",
      "metadata": {
        "id": "gfpbr5IlglXM",
        "colab_type": "code",
        "outputId": "ca37be17-c38e-445e-96c2-f232eba38e80",
        "colab": {
          "base_uri": "https://localhost:8080/",
          "height": 68
        }
      },
      "source": [
        "# function for creating a model\n",
        "def create_model(kernel_initializer='normal', optimizer='adam'):\n",
        "  # create model architecture\n",
        "  regressor = Sequential()\n",
        "  regressor.add(Dense(units=16,kernel_initializer=kernel_initializer,activation='relu',input_dim=8))\n",
        "  regressor.add(Dense(units=12,kernel_initializer=kernel_initializer,activation='relu'))\n",
        "  regressor.add(Dense(units=8,kernel_initializer=kernel_initializer,activation='relu'))\n",
        "  regressor.add(Dense(units=4,kernel_initializer=kernel_initializer,activation='relu'))\n",
        "  regressor.add(Dense(units=1,kernel_initializer=kernel_initializer))\n",
        "\n",
        "  # compile the ANN\n",
        "  regressor.compile(optimizer=optimizer, loss='mean_squared_error', metrics=[keras.metrics.RootMeanSquaredError()])\n",
        "  return regressor\n",
        "\n",
        "# create model object\n",
        "regressor = KerasRegressor(build_fn=create_model, batch_size=10, epochs=150, verbose=0)\n",
        "\n",
        "# create parameter grid\n",
        "kernel_initializer = ['uniform', 'normal']\n",
        "\n",
        "param_grid = dict(kernel_initializer=kernel_initializer)\n",
        "grid = GridSearchCV(estimator=regressor, param_grid=param_grid, n_jobs=-1, cv=5, scoring='neg_root_mean_squared_error')\n",
        "grid_result = grid.fit(X_train,y_train)\n",
        "\n",
        "# grid search results\n",
        "print(\"Best score : {} using {}\" .format(grid_result.best_score_, grid_result.best_params_))\n",
        "means = grid_result.cv_results_['mean_test_score']\n",
        "stds = grid_result.cv_results_['std_test_score']\n",
        "params = grid_result.cv_results_['params']\n",
        "for mean, stdev, param in zip(means, stds, params):\n",
        "    print(\"mean : {}, std : {}, param : {}\".format(mean, stdev, param))"
      ],
      "execution_count": 0,
      "outputs": [
        {
          "output_type": "stream",
          "text": [
            "Best score : -5344.5894686437605 using {'kernel_initializer': 'normal'}\n",
            "mean : -10494.836076070193, std : 6039.716014809614, param : {'kernel_initializer': 'uniform'}\n",
            "mean : -5344.5894686437605, std : 297.5443167617611, param : {'kernel_initializer': 'normal'}\n"
          ],
          "name": "stdout"
        }
      ]
    },
    {
      "cell_type": "markdown",
      "metadata": {
        "id": "Mv4PMXLTyG1V",
        "colab_type": "text"
      },
      "source": [
        "## Final model\n",
        "The model with wide and deep hidden layers.  \n",
        "kernel_initializer = 'normal'\n"
      ]
    },
    {
      "cell_type": "code",
      "metadata": {
        "id": "mgYdY1FRx9en",
        "colab_type": "code",
        "colab": {}
      },
      "source": [
        "# function for creating a model\n",
        "def create_model(kernel_initializer='normal'):\n",
        "  # create model architecture\n",
        "  regressor = Sequential()\n",
        "  regressor.add(Dense(units=16,kernel_initializer=kernel_initializer,activation='relu',input_dim=8))\n",
        "  regressor.add(Dense(units=12,kernel_initializer=kernel_initializer,activation='relu'))\n",
        "  regressor.add(Dense(units=8,kernel_initializer=kernel_initializer,activation='relu'))\n",
        "  regressor.add(Dense(units=4,kernel_initializer=kernel_initializer,activation='relu'))\n",
        "  regressor.add(Dense(units=1,kernel_initializer=kernel_initializer))\n",
        "  # compile the ANN\n",
        "  regressor.compile(optimizer='adam', loss='mean_squared_error', metrics=[keras.metrics.RootMeanSquaredError()])\n",
        "  return regressor\n"
      ],
      "execution_count": 0,
      "outputs": []
    },
    {
      "cell_type": "code",
      "metadata": {
        "id": "aDbCjpmBwwQG",
        "colab_type": "code",
        "colab": {
          "base_uri": "https://localhost:8080/",
          "height": 331
        },
        "outputId": "90c034aa-1a9b-4df5-d4f0-e193c59bbd26"
      },
      "source": [
        "regressor = KerasRegressor(build_fn=create_model)\n",
        "history = regressor.fit(X_train, y_train, validation_split=0.2, batch_size=10, epochs=150, verbose=0)\n",
        "evaluate_model(history)"
      ],
      "execution_count": 27,
      "outputs": [
        {
          "output_type": "stream",
          "text": [
            "Training RMSE :  5701.167\n",
            "Validation RMSE :  5855.42431640625\n"
          ],
          "name": "stdout"
        },
        {
          "output_type": "display_data",
          "data": {
            "image/png": "[encoded data removed]",
            "text/plain": [
              "<Figure size 864x288 with 2 Axes>"
            ]
          },
          "metadata": {
            "tags": [],
            "needs_background": "light"
          }
        }
      ]
    },
    {
      "cell_type": "markdown",
      "metadata": {
        "id": "VRO1HVJN0H6u",
        "colab_type": "text"
      },
      "source": [
        "### Try more epochs"
      ]
    },
    {
      "cell_type": "code",
      "metadata": {
        "id": "OvdB1TSW0FEI",
        "colab_type": "code",
        "outputId": "8f83f863-9a51-4c03-d747-96aa2cf55956",
        "colab": {
          "base_uri": "https://localhost:8080/",
          "height": 331
        }
      },
      "source": [
        "history = regressor.fit(X_train, y_train, validation_split=0.2, batch_size=10, epochs=500, verbose=0)\n",
        "evaluate_model(history)"
      ],
      "execution_count": 28,
      "outputs": [
        {
          "output_type": "stream",
          "text": [
            "Training RMSE :  4935.3384\n",
            "Validation RMSE :  5030.52001953125\n"
          ],
          "name": "stdout"
        },
        {
          "output_type": "display_data",
          "data": {
            "image/png": "[encoded data removed]",
            "text/plain": [
              "<Figure size 864x288 with 2 Axes>"
            ]
          },
          "metadata": {
            "tags": [],
            "needs_background": "light"
          }
        }
      ]
    },
    {
      "cell_type": "markdown",
      "metadata": {
        "id": "Z_T2_4Fsxibz",
        "colab_type": "text"
      },
      "source": [
        "Note :  \n",
        "- The model is low bias and low variance."
      ]
    },
    {
      "cell_type": "markdown",
      "metadata": {
        "id": "yq-2m-lLRhGW",
        "colab_type": "text"
      },
      "source": [
        "# Prediction on Test set"
      ]
    },
    {
      "cell_type": "code",
      "metadata": {
        "id": "yO9lSDIrBdjY",
        "colab_type": "code",
        "colab": {}
      },
      "source": [
        "y_pred = regressor.predict(X_test)"
      ],
      "execution_count": 0,
      "outputs": []
    },
    {
      "cell_type": "markdown",
      "metadata": {
        "id": "mkkT1Wh8RrCG",
        "colab_type": "text"
      },
      "source": [
        "Print sample of predictions"
      ]
    },
    {
      "cell_type": "code",
      "metadata": {
        "id": "6jjKleU-EVlw",
        "colab_type": "code",
        "outputId": "e01750cd-3987-4f9b-b134-f9b7deafbcd2",
        "colab": {
          "base_uri": "https://localhost:8080/",
          "height": 204
        }
      },
      "source": [
        "np.set_printoptions(precision=2)\n",
        "print('y_test     y_pred')\n",
        "print(np.concatenate((np.array(y_test).reshape(len(y_test),1),y_pred.reshape(len(y_pred),1)),axis=1)[:10])"
      ],
      "execution_count": 30,
      "outputs": [
        {
          "output_type": "stream",
          "text": [
            "y_test     y_pred\n",
            "[[12592.53 15382.12]\n",
            " [ 7731.43 10352.11]\n",
            " [12129.61 13340.55]\n",
            " [19144.58 10466.4 ]\n",
            " [ 6933.24  9144.38]\n",
            " [ 1534.3   2912.57]\n",
            " [ 4751.07  6775.27]\n",
            " [ 8017.06 10147.2 ]\n",
            " [ 3238.44  4533.69]\n",
            " [ 2730.11  3414.97]]\n"
          ],
          "name": "stdout"
        }
      ]
    },
    {
      "cell_type": "markdown",
      "metadata": {
        "id": "XISr8HA6RvWz",
        "colab_type": "text"
      },
      "source": [
        "Evaluation"
      ]
    },
    {
      "cell_type": "code",
      "metadata": {
        "id": "Jle33NxF9xsp",
        "colab_type": "code",
        "colab": {}
      },
      "source": [
        "from sklearn.metrics import mean_squared_error, r2_score, mean_absolute_error\n",
        "from math import sqrt"
      ],
      "execution_count": 0,
      "outputs": []
    },
    {
      "cell_type": "code",
      "metadata": {
        "id": "GO_knO_w8yah",
        "colab_type": "code",
        "outputId": "108e8c22-c41b-413a-978c-b0a15017919d",
        "colab": {
          "base_uri": "https://localhost:8080/",
          "height": 51
        }
      },
      "source": [
        "# Training set evaluation\n",
        "mse = mean_squared_error(y_train, regressor.predict(X_train))\n",
        "rmse = sqrt(mse)\n",
        "print ('Training set \\tMSE : {}\\tRMSE : {}'.format(mse,rmse))\n",
        "\n",
        "mse = mean_squared_error(y_test, regressor.predict(X_test))\n",
        "rmse = sqrt(mse)\n",
        "print ('Test set \\tMSE : {}\\tRMSE : {}'.format(mse,rmse))"
      ],
      "execution_count": 32,
      "outputs": [
        {
          "output_type": "stream",
          "text": [
            "Training set \tMSE : 24436982.728159416\tRMSE : 4943.377663921645\n",
            "Test set \tMSE : 19118286.181583896\tRMSE : 4372.446246848999\n"
          ],
          "name": "stdout"
        }
      ]
    },
    {
      "cell_type": "markdown",
      "metadata": {
        "id": "CVzlYyS9REGs",
        "colab_type": "text"
      },
      "source": [
        "Note :  \n",
        "The model is not overfitting.  \n",
        "*** If there is an overfitting, we need to add the dropout layer into our ANN."
      ]
    }
  ]
}