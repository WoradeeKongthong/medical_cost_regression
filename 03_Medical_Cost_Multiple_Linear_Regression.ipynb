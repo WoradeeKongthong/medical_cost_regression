{
  "nbformat": 4,
  "nbformat_minor": 0,
  "metadata": {
    "colab": {
      "name": "03 Medical Cost Multiple Linear Regression.ipynb",
      "provenance": [],
      "mount_file_id": "1wnOeGVUK6A6K1EM-tUGSOhU73W9mcSda",
      "authorship_tag": "ABX9TyPHoasBU42woq/+COAt0z7A",
      "include_colab_link": true
    },
    "kernelspec": {
      "name": "python3",
      "display_name": "Python 3"
    }
  },
  "cells": [
    {
      "cell_type": "markdown",
      "metadata": {
        "id": "view-in-github",
        "colab_type": "text"
      },
      "source": [
        "<a href=\"https://colab.research.google.com/github/WoradeeKongthong/medical_cost_regression/blob/master/03_Medical_Cost_Multiple_Linear_Regression.ipynb\" target=\"_parent\"><img src=\"https://colab.research.google.com/assets/colab-badge.svg\" alt=\"Open In Colab\"/></a>"
      ]
    },
    {
      "cell_type": "code",
      "metadata": {
        "id": "VSrQqKu9BrHk",
        "colab_type": "code",
        "colab": {}
      },
      "source": [
        "import numpy as np\n",
        "import pandas as pd"
      ],
      "execution_count": 0,
      "outputs": []
    },
    {
      "cell_type": "code",
      "metadata": {
        "id": "bPTGnsFCCIJN",
        "colab_type": "code",
        "colab": {}
      },
      "source": [
        "## Data Preprocessing\n",
        "\n",
        "# importing the dataset from part1 (Data Cleansing and EDA)\n",
        "df = pd.read_csv('/content/drive/My Drive/life-long learning/MyProjects/Medical Cost/cleaned_insurance.csv', usecols=[0,1,2,3,4,5,6])"
      ],
      "execution_count": 0,
      "outputs": []
    },
    {
      "cell_type": "code",
      "metadata": {
        "id": "fbb3dO05CYXC",
        "colab_type": "code",
        "outputId": "ab7ed87f-ab58-4b4a-b1ee-1c7df3cd0d89",
        "colab": {
          "base_uri": "https://localhost:8080/",
          "height": 204
        }
      },
      "source": [
        "df.head()   "
      ],
      "execution_count": 75,
      "outputs": [
        {
          "output_type": "execute_result",
          "data": {
            "text/html": [
              "<div>\n",
              "<style scoped>\n",
              "    .dataframe tbody tr th:only-of-type {\n",
              "        vertical-align: middle;\n",
              "    }\n",
              "\n",
              "    .dataframe tbody tr th {\n",
              "        vertical-align: top;\n",
              "    }\n",
              "\n",
              "    .dataframe thead th {\n",
              "        text-align: right;\n",
              "    }\n",
              "</style>\n",
              "<table border=\"1\" class=\"dataframe\">\n",
              "  <thead>\n",
              "    <tr style=\"text-align: right;\">\n",
              "      <th></th>\n",
              "      <th>age</th>\n",
              "      <th>sex</th>\n",
              "      <th>bmi</th>\n",
              "      <th>children</th>\n",
              "      <th>smoker</th>\n",
              "      <th>region</th>\n",
              "      <th>charges</th>\n",
              "    </tr>\n",
              "  </thead>\n",
              "  <tbody>\n",
              "    <tr>\n",
              "      <th>0</th>\n",
              "      <td>19</td>\n",
              "      <td>female</td>\n",
              "      <td>27.900</td>\n",
              "      <td>0</td>\n",
              "      <td>True</td>\n",
              "      <td>southwest</td>\n",
              "      <td>16884.92400</td>\n",
              "    </tr>\n",
              "    <tr>\n",
              "      <th>1</th>\n",
              "      <td>18</td>\n",
              "      <td>male</td>\n",
              "      <td>33.770</td>\n",
              "      <td>1</td>\n",
              "      <td>False</td>\n",
              "      <td>southeast</td>\n",
              "      <td>1725.55230</td>\n",
              "    </tr>\n",
              "    <tr>\n",
              "      <th>2</th>\n",
              "      <td>28</td>\n",
              "      <td>male</td>\n",
              "      <td>33.000</td>\n",
              "      <td>3</td>\n",
              "      <td>False</td>\n",
              "      <td>southeast</td>\n",
              "      <td>4449.46200</td>\n",
              "    </tr>\n",
              "    <tr>\n",
              "      <th>3</th>\n",
              "      <td>33</td>\n",
              "      <td>male</td>\n",
              "      <td>22.705</td>\n",
              "      <td>0</td>\n",
              "      <td>False</td>\n",
              "      <td>northwest</td>\n",
              "      <td>21984.47061</td>\n",
              "    </tr>\n",
              "    <tr>\n",
              "      <th>4</th>\n",
              "      <td>32</td>\n",
              "      <td>male</td>\n",
              "      <td>28.880</td>\n",
              "      <td>0</td>\n",
              "      <td>False</td>\n",
              "      <td>northwest</td>\n",
              "      <td>3866.85520</td>\n",
              "    </tr>\n",
              "  </tbody>\n",
              "</table>\n",
              "</div>"
            ],
            "text/plain": [
              "   age     sex     bmi  children  smoker     region      charges\n",
              "0   19  female  27.900         0    True  southwest  16884.92400\n",
              "1   18    male  33.770         1   False  southeast   1725.55230\n",
              "2   28    male  33.000         3   False  southeast   4449.46200\n",
              "3   33    male  22.705         0   False  northwest  21984.47061\n",
              "4   32    male  28.880         0   False  northwest   3866.85520"
            ]
          },
          "metadata": {
            "tags": []
          },
          "execution_count": 75
        }
      ]
    },
    {
      "cell_type": "code",
      "metadata": {
        "id": "8Pg0uBG11nC7",
        "colab_type": "code",
        "colab": {}
      },
      "source": [
        "X = df.iloc[:, :-1].values\n",
        "y = df.iloc[:, -1].values"
      ],
      "execution_count": 0,
      "outputs": []
    },
    {
      "cell_type": "code",
      "metadata": {
        "id": "u7q86OcG2Ait",
        "colab_type": "code",
        "outputId": "79f7175d-2267-42c2-8db6-b44f6f8ee274",
        "colab": {
          "base_uri": "https://localhost:8080/",
          "height": 136
        }
      },
      "source": [
        "print(X)"
      ],
      "execution_count": 101,
      "outputs": [
        {
          "output_type": "stream",
          "text": [
            "[[19 'female' 27.9 0 True 'southwest']\n",
            " [18 'male' 33.77 1 False 'southeast']\n",
            " [28 'male' 33.0 3 False 'southeast']\n",
            " ...\n",
            " [18 'female' 36.85 0 False 'southeast']\n",
            " [21 'female' 25.8 0 False 'southwest']\n",
            " [61 'female' 29.07 0 True 'northwest']]\n"
          ],
          "name": "stdout"
        }
      ]
    },
    {
      "cell_type": "code",
      "metadata": {
        "id": "6r4KHQVP2Fd9",
        "colab_type": "code",
        "outputId": "d67e5e30-eec5-4bdd-c152-0cc9430e3f96",
        "colab": {
          "base_uri": "https://localhost:8080/",
          "height": 34
        }
      },
      "source": [
        "print(y)"
      ],
      "execution_count": 102,
      "outputs": [
        {
          "output_type": "stream",
          "text": [
            "[16884.92  1725.55  4449.46 ...  1629.83  2007.94 29141.36]\n"
          ],
          "name": "stdout"
        }
      ]
    },
    {
      "cell_type": "code",
      "metadata": {
        "id": "8ojz9A7Q2OKj",
        "colab_type": "code",
        "colab": {}
      },
      "source": [
        "# encoding categorical data\n",
        "from sklearn.compose import ColumnTransformer\n",
        "from sklearn.preprocessing import OneHotEncoder\n",
        "\n",
        "ct = ColumnTransformer(transformers=[('encoder', OneHotEncoder(drop='first'), [1,4,5])], remainder='passthrough')\n",
        "X = ct.fit_transform(X)"
      ],
      "execution_count": 0,
      "outputs": []
    },
    {
      "cell_type": "code",
      "metadata": {
        "id": "kwVSxs9aSz2G",
        "colab_type": "code",
        "outputId": "ac290f6c-fb09-4441-cf4f-6b51ad7c931a",
        "colab": {
          "base_uri": "https://localhost:8080/",
          "height": 119
        }
      },
      "source": [
        "print('X.shape = ',X.shape)\n",
        "print(X[:5])"
      ],
      "execution_count": 104,
      "outputs": [
        {
          "output_type": "stream",
          "text": [
            "X.shape =  (1338, 8)\n",
            "[[0.0 1.0 0.0 0.0 1.0 19 27.9 0]\n",
            " [1.0 0.0 0.0 1.0 0.0 18 33.77 1]\n",
            " [1.0 0.0 0.0 1.0 0.0 28 33.0 3]\n",
            " [1.0 0.0 1.0 0.0 0.0 33 22.705 0]\n",
            " [1.0 0.0 1.0 0.0 0.0 32 28.88 0]]\n"
          ],
          "name": "stdout"
        }
      ]
    },
    {
      "cell_type": "code",
      "metadata": {
        "id": "GkKEeHXv3ufE",
        "colab_type": "code",
        "colab": {}
      },
      "source": [
        "# Splitting the dataset into the Training set and Test set\n",
        "from sklearn.model_selection import train_test_split\n",
        "X_train, X_test, y_train, y_test = train_test_split(X, y, test_size = 0.2)"
      ],
      "execution_count": 0,
      "outputs": []
    },
    {
      "cell_type": "code",
      "metadata": {
        "id": "ltxUEXVkHUlF",
        "colab_type": "code",
        "outputId": "9d4eda60-7bfb-40b9-9582-cf5bc3300be6",
        "colab": {
          "base_uri": "https://localhost:8080/",
          "height": 34
        }
      },
      "source": [
        "# Training the Multiple Linear Regression model on the Training set\n",
        "from sklearn.linear_model import LinearRegression\n",
        "regressor = LinearRegression()\n",
        "regressor.fit(X_train, y_train)"
      ],
      "execution_count": 106,
      "outputs": [
        {
          "output_type": "execute_result",
          "data": {
            "text/plain": [
              "LinearRegression(copy_X=True, fit_intercept=True, n_jobs=None, normalize=False)"
            ]
          },
          "metadata": {
            "tags": []
          },
          "execution_count": 106
        }
      ]
    },
    {
      "cell_type": "code",
      "metadata": {
        "id": "E0UlBP4xIKJD",
        "colab_type": "code",
        "outputId": "32ed682c-bdcb-4722-905a-80ef16ad19fc",
        "colab": {
          "base_uri": "https://localhost:8080/",
          "height": 187
        }
      },
      "source": [
        "# Predicting the Test set results\n",
        "y_pred = regressor.predict(X_test)\n",
        "np.set_printoptions(precision=2)\n",
        "print(np.concatenate((y_pred.reshape(len(y_pred),1), y_test.reshape(len(y_test),1)),1)[:10])"
      ],
      "execution_count": 107,
      "outputs": [
        {
          "output_type": "stream",
          "text": [
            "[[ 7534.8   2755.02]\n",
            " [10138.99  9447.38]\n",
            " [ 9830.23  9282.48]\n",
            " [14646.14 11944.59]\n",
            " [ 8243.76  7626.99]\n",
            " [12791.65 14001.13]\n",
            " [12653.76 12096.65]\n",
            " [35121.75 41661.6 ]\n",
            " [ 1953.39  2710.83]\n",
            " [11247.14  9620.33]]\n"
          ],
          "name": "stdout"
        }
      ]
    },
    {
      "cell_type": "code",
      "metadata": {
        "id": "lKPjxSRIKgdU",
        "colab_type": "code",
        "outputId": "cd543768-c8ee-40eb-c6ce-1a0315ad19eb",
        "colab": {
          "base_uri": "https://localhost:8080/",
          "height": 85
        }
      },
      "source": [
        "# Model Evaluation\n",
        "from sklearn.metrics import r2_score, mean_absolute_error, mean_squared_error\n",
        "n = X_test.shape[0]\n",
        "p = X_test.shape[1]\n",
        "r_square = r2_score(y_test, y_pred)\n",
        "adj_r_square = 1 - (1 - r_square) * ((n - 1) / (n - p - 1)) \n",
        "mae = mean_absolute_error(y_test, y_pred)\n",
        "mse = mean_squared_error(y_test, y_pred)\n",
        "\n",
        "print(\"R-square : \",r_square)\n",
        "print(\"Adjusted R-square : \",adj_r_square)\n",
        "print(\"MAE : \", mae)\n",
        "print(\"MSE : \",mse)"
      ],
      "execution_count": 108,
      "outputs": [
        {
          "output_type": "stream",
          "text": [
            "R-square :  0.778643304401302\n",
            "Adjusted R-square :  0.771806031950377\n",
            "MAE :  3836.186105975616\n",
            "MSE :  30096261.49713123\n"
          ],
          "name": "stdout"
        }
      ]
    },
    {
      "cell_type": "code",
      "metadata": {
        "id": "O630iUOgRuAU",
        "colab_type": "code",
        "outputId": "244ecf47-3097-4af1-fbd9-8a412d99415b",
        "colab": {
          "base_uri": "https://localhost:8080/",
          "height": 51
        }
      },
      "source": [
        "# Applying K-Fold Cross Validation\n",
        "from sklearn.model_selection import cross_val_score\n",
        "accuracies = cross_val_score(estimator = regressor, X = X_train, y = y_train, cv = 10)\n",
        "k_fold_accuracy = accuracies.mean()\n",
        "k_fold_sd = accuracies.std()\n",
        "print(\"K-fold Accuracy: {:.2f} %\".format(k_fold_accuracy*100))\n",
        "print(\"K-fold Standard Deviation: {:.2f} %\".format(k_fold_sd*100))"
      ],
      "execution_count": 109,
      "outputs": [
        {
          "output_type": "stream",
          "text": [
            "K-fold Accuracy: 73.82 %\n",
            "K-fold Standard Deviation: 3.72 %\n"
          ],
          "name": "stdout"
        }
      ]
    },
    {
      "cell_type": "code",
      "metadata": {
        "id": "6OPZoT2BZEZd",
        "colab_type": "code",
        "colab": {
          "base_uri": "https://localhost:8080/",
          "height": 34
        },
        "outputId": "b01a3398-0a7d-4ab9-8714-a37a45dfd2ab"
      },
      "source": [
        "k_fold_accuracy"
      ],
      "execution_count": 121,
      "outputs": [
        {
          "output_type": "execute_result",
          "data": {
            "text/plain": [
              "0.7382060792628369"
            ]
          },
          "metadata": {
            "tags": []
          },
          "execution_count": 121
        }
      ]
    },
    {
      "cell_type": "code",
      "metadata": {
        "id": "Z1h6X4EbOGPl",
        "colab_type": "code",
        "colab": {}
      },
      "source": [
        "## Improving the model\n",
        "\n",
        "# Store Feature Performance \n",
        "# get x column name\n",
        "enc_group = len(ct.named_transformers_['encoder'].categories_)\n",
        "X_columns = []\n",
        "for i in range(enc_group):\n",
        "  catielem = len(ct.named_transformers_['encoder'].categories_[i])\n",
        "  for j in range(1,catielem):\n",
        "    X_columns.append(ct.named_transformers_['encoder'].categories_[i][j])\n",
        "X_columns.extend(['age','bmi','children'])\n",
        "X_columns = np.array(X_columns)\n",
        "\n",
        "num_features = [len(X_columns)]\n",
        "features_name = [str(X_columns)]\n",
        "r2 = [r_square]\n",
        "adjR2 = [adj_r_square]\n",
        "mae_score = [mae]\n",
        "mse_score = [mse]\n",
        "k_fold_accuracy_mean = [k_fold_accuracy]\n",
        "k_fold_accuracy_sd = [k_fold_sd]"
      ],
      "execution_count": 0,
      "outputs": []
    },
    {
      "cell_type": "code",
      "metadata": {
        "id": "D6fwa7eEE7rF",
        "colab_type": "code",
        "colab": {}
      },
      "source": [
        "# Backward Elimination\n",
        "# p values\n",
        "from sklearn.feature_selection import f_regression"
      ],
      "execution_count": 0,
      "outputs": []
    },
    {
      "cell_type": "code",
      "metadata": {
        "id": "U2T9xMZTCBmk",
        "colab_type": "code",
        "colab": {}
      },
      "source": [
        "for i in range(len(X[0])):\n",
        "  _,p_values = f_regression(X,y)\n",
        "  max_p = p_values.max()\n",
        "  max_arg = p_values.argmax()\n",
        "\n",
        "  if max_p > 0.05 :\n",
        "    # Re-train the model\n",
        "    X = np.delete(X,max_arg,1)\n",
        "    X_columns = np.delete(X_columns,max_arg,0)\n",
        "\n",
        "    X_train, X_test, y_train, y_test = train_test_split(X, y, test_size = 0.2)\n",
        "    regressor = LinearRegression()\n",
        "    regressor.fit(X_train, y_train)\n",
        "    y_pred = regressor.predict(X_test)\n",
        "\n",
        "    n = X_test.shape[0]\n",
        "    p = X_test.shape[1]\n",
        "    r_square = r2_score(y_test, y_pred)\n",
        "    adj_r_square = 1 - (1 - r_square) * ((n - 1) / (n - p - 1)) \n",
        "    mae = mean_absolute_error(y_test, y_pred)\n",
        "    mse = mean_squared_error(y_test, y_pred)\n",
        "\n",
        "    accuracies = cross_val_score(estimator = regressor, X = X_train, y = y_train, cv = 10)\n",
        "    k_fold_accuracy = accuracies.mean()\n",
        "    k_fold_sd = accuracies.std()\n",
        "\n",
        "    # Store Feature Performance\n",
        "    num_features.append(len(X_columns))\n",
        "    features_name.append(str(X_columns))\n",
        "    r2.append(r_square)\n",
        "    adjR2.append(adj_r_square)\n",
        "    mae_score.append(mae)\n",
        "    mse_score.append(mse)\n",
        "    k_fold_accuracy_mean.append(k_fold_accuracy)\n",
        "    k_fold_accuracy_sd.append(k_fold_sd)\n",
        "\n",
        "  else:\n",
        "    break"
      ],
      "execution_count": 0,
      "outputs": []
    },
    {
      "cell_type": "code",
      "metadata": {
        "id": "A_sdnNC-WqBc",
        "colab_type": "code",
        "colab": {
          "base_uri": "https://localhost:8080/",
          "height": 142
        },
        "outputId": "59e60d5a-3c17-4dc0-f6da-375d6f7137b7"
      },
      "source": [
        "performance_df = pd.DataFrame({'num features':num_features, 'features':features_name,'R-sq':r2,'AdjR-sq':adjR2,'MAE':mae,\n",
        "                              'MSE':mse,'k_fold_acc_mean':k_fold_accuracy_mean,'k_fold_acc_sd':k_fold_accuracy_sd})\n",
        "performance_df"
      ],
      "execution_count": 146,
      "outputs": [
        {
          "output_type": "execute_result",
          "data": {
            "text/html": [
              "<div>\n",
              "<style scoped>\n",
              "    .dataframe tbody tr th:only-of-type {\n",
              "        vertical-align: middle;\n",
              "    }\n",
              "\n",
              "    .dataframe tbody tr th {\n",
              "        vertical-align: top;\n",
              "    }\n",
              "\n",
              "    .dataframe thead th {\n",
              "        text-align: right;\n",
              "    }\n",
              "</style>\n",
              "<table border=\"1\" class=\"dataframe\">\n",
              "  <thead>\n",
              "    <tr style=\"text-align: right;\">\n",
              "      <th></th>\n",
              "      <th>num features</th>\n",
              "      <th>features</th>\n",
              "      <th>R-sq</th>\n",
              "      <th>AdjR-sq</th>\n",
              "      <th>MAE</th>\n",
              "      <th>MSE</th>\n",
              "      <th>k_fold_acc_mean</th>\n",
              "      <th>k_fold_acc_sd</th>\n",
              "    </tr>\n",
              "  </thead>\n",
              "  <tbody>\n",
              "    <tr>\n",
              "      <th>0</th>\n",
              "      <td>8</td>\n",
              "      <td>['male' 'True' 'northwest' 'southeast' 'southw...</td>\n",
              "      <td>0.778643</td>\n",
              "      <td>0.771806</td>\n",
              "      <td>4568.698448</td>\n",
              "      <td>4.324904e+07</td>\n",
              "      <td>0.738206</td>\n",
              "      <td>0.037168</td>\n",
              "    </tr>\n",
              "    <tr>\n",
              "      <th>1</th>\n",
              "      <td>7</td>\n",
              "      <td>['male' 'True' 'southeast' 'southwest' 'age' '...</td>\n",
              "      <td>0.741480</td>\n",
              "      <td>0.734520</td>\n",
              "      <td>4568.698448</td>\n",
              "      <td>4.324904e+07</td>\n",
              "      <td>0.739627</td>\n",
              "      <td>0.060179</td>\n",
              "    </tr>\n",
              "    <tr>\n",
              "      <th>2</th>\n",
              "      <td>6</td>\n",
              "      <td>['male' 'True' 'southeast' 'age' 'bmi' 'childr...</td>\n",
              "      <td>0.724661</td>\n",
              "      <td>0.718332</td>\n",
              "      <td>4568.698448</td>\n",
              "      <td>4.324904e+07</td>\n",
              "      <td>0.728742</td>\n",
              "      <td>0.075396</td>\n",
              "    </tr>\n",
              "  </tbody>\n",
              "</table>\n",
              "</div>"
            ],
            "text/plain": [
              "   num features  ... k_fold_acc_sd\n",
              "0             8  ...      0.037168\n",
              "1             7  ...      0.060179\n",
              "2             6  ...      0.075396\n",
              "\n",
              "[3 rows x 8 columns]"
            ]
          },
          "metadata": {
            "tags": []
          },
          "execution_count": 146
        }
      ]
    },
    {
      "cell_type": "code",
      "metadata": {
        "id": "Ut9kUJd-dY0O",
        "colab_type": "code",
        "colab": {}
      },
      "source": [
        "# Note : original 8-argument-X is most optimal for this model"
      ],
      "execution_count": 0,
      "outputs": []
    }
  ]
}