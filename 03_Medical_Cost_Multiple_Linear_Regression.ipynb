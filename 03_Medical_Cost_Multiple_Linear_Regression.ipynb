{
  "nbformat": 4,
  "nbformat_minor": 0,
  "metadata": {
    "colab": {
      "name": "03 Medical Cost Multiple Linear Regression.ipynb",
      "provenance": [],
      "mount_file_id": "1wnOeGVUK6A6K1EM-tUGSOhU73W9mcSda",
      "authorship_tag": "ABX9TyNG2N3SpUHgXvuip8rEMTPj",
      "include_colab_link": true
    },
    "kernelspec": {
      "name": "python3",
      "display_name": "Python 3"
    }
  },
  "cells": [
    {
      "cell_type": "markdown",
      "metadata": {
        "id": "view-in-github",
        "colab_type": "text"
      },
      "source": [
        "<a href=\"https://colab.research.google.com/github/WoradeeKongthong/medical_cost_regression/blob/master/03_Medical_Cost_Multiple_Linear_Regression.ipynb\" target=\"_parent\"><img src=\"https://colab.research.google.com/assets/colab-badge.svg\" alt=\"Open In Colab\"/></a>"
      ]
    },
    {
      "cell_type": "code",
      "metadata": {
        "id": "VSrQqKu9BrHk",
        "colab_type": "code",
        "colab": {}
      },
      "source": [
        "import numpy as np\n",
        "import pandas as pd"
      ],
      "execution_count": 0,
      "outputs": []
    },
    {
      "cell_type": "code",
      "metadata": {
        "id": "bPTGnsFCCIJN",
        "colab_type": "code",
        "colab": {}
      },
      "source": [
        "## Data Preprocessing\n",
        "\n",
        "# importing the dataset\n",
        "df = pd.read_csv('/content/drive/My Drive/life-long learning/MyProjects/Medical Cost/cleaned_insurance.csv')"
      ],
      "execution_count": 0,
      "outputs": []
    },
    {
      "cell_type": "code",
      "metadata": {
        "id": "fbb3dO05CYXC",
        "colab_type": "code",
        "outputId": "220dc14a-1bbc-4591-eaa7-8044e50c390d",
        "colab": {
          "base_uri": "https://localhost:8080/",
          "height": 204
        }
      },
      "source": [
        "df.head()   "
      ],
      "execution_count": 181,
      "outputs": [
        {
          "output_type": "execute_result",
          "data": {
            "text/html": [
              "<div>\n",
              "<style scoped>\n",
              "    .dataframe tbody tr th:only-of-type {\n",
              "        vertical-align: middle;\n",
              "    }\n",
              "\n",
              "    .dataframe tbody tr th {\n",
              "        vertical-align: top;\n",
              "    }\n",
              "\n",
              "    .dataframe thead th {\n",
              "        text-align: right;\n",
              "    }\n",
              "</style>\n",
              "<table border=\"1\" class=\"dataframe\">\n",
              "  <thead>\n",
              "    <tr style=\"text-align: right;\">\n",
              "      <th></th>\n",
              "      <th>age</th>\n",
              "      <th>sex</th>\n",
              "      <th>bmi</th>\n",
              "      <th>children</th>\n",
              "      <th>smoker</th>\n",
              "      <th>region</th>\n",
              "      <th>charges</th>\n",
              "      <th>bmi_status</th>\n",
              "      <th>AgeInterval</th>\n",
              "    </tr>\n",
              "  </thead>\n",
              "  <tbody>\n",
              "    <tr>\n",
              "      <th>0</th>\n",
              "      <td>19</td>\n",
              "      <td>female</td>\n",
              "      <td>27.900</td>\n",
              "      <td>0</td>\n",
              "      <td>True</td>\n",
              "      <td>southwest</td>\n",
              "      <td>16884.92400</td>\n",
              "      <td>overweight</td>\n",
              "      <td>(15, 25]</td>\n",
              "    </tr>\n",
              "    <tr>\n",
              "      <th>1</th>\n",
              "      <td>18</td>\n",
              "      <td>male</td>\n",
              "      <td>33.770</td>\n",
              "      <td>1</td>\n",
              "      <td>False</td>\n",
              "      <td>southeast</td>\n",
              "      <td>1725.55230</td>\n",
              "      <td>obesity</td>\n",
              "      <td>(15, 25]</td>\n",
              "    </tr>\n",
              "    <tr>\n",
              "      <th>2</th>\n",
              "      <td>28</td>\n",
              "      <td>male</td>\n",
              "      <td>33.000</td>\n",
              "      <td>3</td>\n",
              "      <td>False</td>\n",
              "      <td>southeast</td>\n",
              "      <td>4449.46200</td>\n",
              "      <td>obesity</td>\n",
              "      <td>(25, 45]</td>\n",
              "    </tr>\n",
              "    <tr>\n",
              "      <th>3</th>\n",
              "      <td>33</td>\n",
              "      <td>male</td>\n",
              "      <td>22.705</td>\n",
              "      <td>0</td>\n",
              "      <td>False</td>\n",
              "      <td>northwest</td>\n",
              "      <td>21984.47061</td>\n",
              "      <td>ideal</td>\n",
              "      <td>(25, 45]</td>\n",
              "    </tr>\n",
              "    <tr>\n",
              "      <th>4</th>\n",
              "      <td>32</td>\n",
              "      <td>male</td>\n",
              "      <td>28.880</td>\n",
              "      <td>0</td>\n",
              "      <td>False</td>\n",
              "      <td>northwest</td>\n",
              "      <td>3866.85520</td>\n",
              "      <td>overweight</td>\n",
              "      <td>(25, 45]</td>\n",
              "    </tr>\n",
              "  </tbody>\n",
              "</table>\n",
              "</div>"
            ],
            "text/plain": [
              "   age     sex     bmi  ...      charges  bmi_status AgeInterval\n",
              "0   19  female  27.900  ...  16884.92400  overweight    (15, 25]\n",
              "1   18    male  33.770  ...   1725.55230     obesity    (15, 25]\n",
              "2   28    male  33.000  ...   4449.46200     obesity    (25, 45]\n",
              "3   33    male  22.705  ...  21984.47061       ideal    (25, 45]\n",
              "4   32    male  28.880  ...   3866.85520  overweight    (25, 45]\n",
              "\n",
              "[5 rows x 9 columns]"
            ]
          },
          "metadata": {
            "tags": []
          },
          "execution_count": 181
        }
      ]
    },
    {
      "cell_type": "code",
      "metadata": {
        "id": "8Pg0uBG11nC7",
        "colab_type": "code",
        "colab": {}
      },
      "source": [
        "X = df.iloc[:, :6].values\n",
        "y = df.iloc[:, 6].values"
      ],
      "execution_count": 0,
      "outputs": []
    },
    {
      "cell_type": "code",
      "metadata": {
        "id": "u7q86OcG2Ait",
        "colab_type": "code",
        "outputId": "e054ed05-a458-4b2a-d8be-d0dc18c22f8f",
        "colab": {
          "base_uri": "https://localhost:8080/",
          "height": 136
        }
      },
      "source": [
        "print(X)"
      ],
      "execution_count": 183,
      "outputs": [
        {
          "output_type": "stream",
          "text": [
            "[[19 'female' 27.9 0 True 'southwest']\n",
            " [18 'male' 33.77 1 False 'southeast']\n",
            " [28 'male' 33.0 3 False 'southeast']\n",
            " ...\n",
            " [18 'female' 36.85 0 False 'southeast']\n",
            " [21 'female' 25.8 0 False 'southwest']\n",
            " [61 'female' 29.07 0 True 'northwest']]\n"
          ],
          "name": "stdout"
        }
      ]
    },
    {
      "cell_type": "code",
      "metadata": {
        "id": "6r4KHQVP2Fd9",
        "colab_type": "code",
        "outputId": "8f359119-dfc2-4f0d-f4ba-7ff39d566540",
        "colab": {
          "base_uri": "https://localhost:8080/",
          "height": 34
        }
      },
      "source": [
        "print(y)"
      ],
      "execution_count": 184,
      "outputs": [
        {
          "output_type": "stream",
          "text": [
            "[16884.92  1725.55  4449.46 ...  1629.83  2007.94 29141.36]\n"
          ],
          "name": "stdout"
        }
      ]
    },
    {
      "cell_type": "code",
      "metadata": {
        "id": "8ojz9A7Q2OKj",
        "colab_type": "code",
        "colab": {}
      },
      "source": [
        "# encoding categorical data\n",
        "from sklearn.compose import ColumnTransformer\n",
        "from sklearn.preprocessing import OneHotEncoder\n",
        "\n",
        "ct = ColumnTransformer(transformers=[('encoder', OneHotEncoder(drop='first'), [1,4,5])], remainder='passthrough')\n",
        "X = ct.fit_transform(X)"
      ],
      "execution_count": 0,
      "outputs": []
    },
    {
      "cell_type": "code",
      "metadata": {
        "id": "kwVSxs9aSz2G",
        "colab_type": "code",
        "colab": {
          "base_uri": "https://localhost:8080/",
          "height": 102
        },
        "outputId": "70b7097c-c8b6-4a8a-b876-04168b6a52a4"
      },
      "source": [
        "print(X[:5])"
      ],
      "execution_count": 186,
      "outputs": [
        {
          "output_type": "stream",
          "text": [
            "[[0.0 1.0 0.0 0.0 1.0 19 27.9 0]\n",
            " [1.0 0.0 0.0 1.0 0.0 18 33.77 1]\n",
            " [1.0 0.0 0.0 1.0 0.0 28 33.0 3]\n",
            " [1.0 0.0 1.0 0.0 0.0 33 22.705 0]\n",
            " [1.0 0.0 1.0 0.0 0.0 32 28.88 0]]\n"
          ],
          "name": "stdout"
        }
      ]
    },
    {
      "cell_type": "code",
      "metadata": {
        "id": "GkKEeHXv3ufE",
        "colab_type": "code",
        "colab": {}
      },
      "source": [
        "# Splitting the dataset into the Training set and Test set\n",
        "from sklearn.model_selection import train_test_split\n",
        "X_train, X_test, y_train, y_test = train_test_split(X, y, test_size = 0.2)"
      ],
      "execution_count": 0,
      "outputs": []
    },
    {
      "cell_type": "code",
      "metadata": {
        "id": "ltxUEXVkHUlF",
        "colab_type": "code",
        "outputId": "74615b31-320f-4c21-a8a7-9254298ed6d4",
        "colab": {
          "base_uri": "https://localhost:8080/",
          "height": 34
        }
      },
      "source": [
        "# Training the Multiple Linear Regression model on the Training set\n",
        "from sklearn.linear_model import LinearRegression\n",
        "regressor = LinearRegression()\n",
        "regressor.fit(X_train, y_train)"
      ],
      "execution_count": 188,
      "outputs": [
        {
          "output_type": "execute_result",
          "data": {
            "text/plain": [
              "LinearRegression(copy_X=True, fit_intercept=True, n_jobs=None, normalize=False)"
            ]
          },
          "metadata": {
            "tags": []
          },
          "execution_count": 188
        }
      ]
    },
    {
      "cell_type": "code",
      "metadata": {
        "id": "E0UlBP4xIKJD",
        "colab_type": "code",
        "outputId": "82e8fa66-2345-49c1-9db2-bf833e2725f9",
        "colab": {
          "base_uri": "https://localhost:8080/",
          "height": 187
        }
      },
      "source": [
        "# Predicting the Test set results\n",
        "y_pred = regressor.predict(X_test)\n",
        "np.set_printoptions(precision=2)\n",
        "print(np.concatenate((y_pred.reshape(len(y_pred),1), y_test.reshape(len(y_test),1)),1)[:10])"
      ],
      "execution_count": 189,
      "outputs": [
        {
          "output_type": "stream",
          "text": [
            "[[ 9919.72 30284.64]\n",
            " [ 2244.03  2597.78]\n",
            " [ 8214.15 12404.88]\n",
            " [37112.67 43921.18]\n",
            " [17479.66 12574.05]\n",
            " [ 5645.23  4564.19]\n",
            " [11629.63 11085.59]\n",
            " [11169.12  8964.06]\n",
            " [ 5066.26  6272.48]\n",
            " [ 1219.35  3378.91]]\n"
          ],
          "name": "stdout"
        }
      ]
    },
    {
      "cell_type": "code",
      "metadata": {
        "id": "lKPjxSRIKgdU",
        "colab_type": "code",
        "outputId": "cc8b7bdb-b22f-473b-cfbf-d639e2b71c4c",
        "colab": {
          "base_uri": "https://localhost:8080/",
          "height": 51
        }
      },
      "source": [
        "# Model Evaluation\n",
        "from sklearn.metrics import r2_score,explained_variance_score\n",
        "print(r2_score(y_test, y_pred))\n",
        "print(explained_variance_score(y_test, y_pred))"
      ],
      "execution_count": 190,
      "outputs": [
        {
          "output_type": "stream",
          "text": [
            "0.798390966569285\n",
            "0.7983944690397611\n"
          ],
          "name": "stdout"
        }
      ]
    },
    {
      "cell_type": "code",
      "metadata": {
        "id": "O630iUOgRuAU",
        "colab_type": "code",
        "colab": {
          "base_uri": "https://localhost:8080/",
          "height": 51
        },
        "outputId": "170b977c-8732-4f64-9cac-482777e3f439"
      },
      "source": [
        "# Applying K-Fold Cross Validation\n",
        "from sklearn.model_selection import cross_val_score\n",
        "accuracies = cross_val_score(estimator = regressor, X = X_train, y = y_train, cv = 10)\n",
        "print(\"Accuracy: {:.2f} %\".format(accuracies.mean()*100))\n",
        "print(\"Standard Deviation: {:.2f} %\".format(accuracies.std()*100))"
      ],
      "execution_count": 191,
      "outputs": [
        {
          "output_type": "stream",
          "text": [
            "Accuracy: 73.16 %\n",
            "Standard Deviation: 3.58 %\n"
          ],
          "name": "stdout"
        }
      ]
    }
  ]
}