{
  "nbformat": 4,
  "nbformat_minor": 0,
  "metadata": {
    "colab": {
      "name": "02 Medical Cost Multiple Linear Regression.ipynb",
      "provenance": [],
      "mount_file_id": "1wnOeGVUK6A6K1EM-tUGSOhU73W9mcSda",
      "authorship_tag": "ABX9TyMZbtUpOihZSrdIKe4Q9L4E",
      "include_colab_link": true
    },
    "kernelspec": {
      "name": "python3",
      "display_name": "Python 3"
    }
  },
  "cells": [
    {
      "cell_type": "markdown",
      "metadata": {
        "id": "view-in-github",
        "colab_type": "text"
      },
      "source": [
        "<a href=\"https://colab.research.google.com/github/WoradeeKongthong/medical_cost_regression/blob/master/02_Medical_Cost_Multiple_Linear_Regression.ipynb\" target=\"_parent\"><img src=\"https://colab.research.google.com/assets/colab-badge.svg\" alt=\"Open In Colab\"/></a>"
      ]
    },
    {
      "cell_type": "code",
      "metadata": {
        "id": "VSrQqKu9BrHk",
        "colab_type": "code",
        "colab": {}
      },
      "source": [
        "import numpy as np\n",
        "import pandas as pd"
      ],
      "execution_count": 0,
      "outputs": []
    },
    {
      "cell_type": "code",
      "metadata": {
        "id": "bPTGnsFCCIJN",
        "colab_type": "code",
        "colab": {}
      },
      "source": [
        "## Data Preprocessing\n",
        "\n",
        "# importing the dataset\n",
        "df = pd.read_csv('/content/drive/My Drive/life-long learning/MyProjects/Medical Cost/cleaned_insurance.csv')"
      ],
      "execution_count": 0,
      "outputs": []
    },
    {
      "cell_type": "code",
      "metadata": {
        "id": "fbb3dO05CYXC",
        "colab_type": "code",
        "outputId": "9cfa78b3-742e-4fb4-e421-21e472f12c82",
        "colab": {
          "base_uri": "https://localhost:8080/",
          "height": 204
        }
      },
      "source": [
        "df.head()"
      ],
      "execution_count": 3,
      "outputs": [
        {
          "output_type": "execute_result",
          "data": {
            "text/html": [
              "<div>\n",
              "<style scoped>\n",
              "    .dataframe tbody tr th:only-of-type {\n",
              "        vertical-align: middle;\n",
              "    }\n",
              "\n",
              "    .dataframe tbody tr th {\n",
              "        vertical-align: top;\n",
              "    }\n",
              "\n",
              "    .dataframe thead th {\n",
              "        text-align: right;\n",
              "    }\n",
              "</style>\n",
              "<table border=\"1\" class=\"dataframe\">\n",
              "  <thead>\n",
              "    <tr style=\"text-align: right;\">\n",
              "      <th></th>\n",
              "      <th>age</th>\n",
              "      <th>sex</th>\n",
              "      <th>bmi</th>\n",
              "      <th>children</th>\n",
              "      <th>smoker</th>\n",
              "      <th>region</th>\n",
              "      <th>charges</th>\n",
              "      <th>bmi_status</th>\n",
              "      <th>AgeInterval</th>\n",
              "    </tr>\n",
              "  </thead>\n",
              "  <tbody>\n",
              "    <tr>\n",
              "      <th>0</th>\n",
              "      <td>19</td>\n",
              "      <td>female</td>\n",
              "      <td>27.900</td>\n",
              "      <td>0</td>\n",
              "      <td>True</td>\n",
              "      <td>southwest</td>\n",
              "      <td>16884.92400</td>\n",
              "      <td>overweight</td>\n",
              "      <td>(15, 25]</td>\n",
              "    </tr>\n",
              "    <tr>\n",
              "      <th>1</th>\n",
              "      <td>18</td>\n",
              "      <td>male</td>\n",
              "      <td>33.770</td>\n",
              "      <td>1</td>\n",
              "      <td>False</td>\n",
              "      <td>southeast</td>\n",
              "      <td>1725.55230</td>\n",
              "      <td>obesity</td>\n",
              "      <td>(15, 25]</td>\n",
              "    </tr>\n",
              "    <tr>\n",
              "      <th>2</th>\n",
              "      <td>28</td>\n",
              "      <td>male</td>\n",
              "      <td>33.000</td>\n",
              "      <td>3</td>\n",
              "      <td>False</td>\n",
              "      <td>southeast</td>\n",
              "      <td>4449.46200</td>\n",
              "      <td>obesity</td>\n",
              "      <td>(25, 45]</td>\n",
              "    </tr>\n",
              "    <tr>\n",
              "      <th>3</th>\n",
              "      <td>33</td>\n",
              "      <td>male</td>\n",
              "      <td>22.705</td>\n",
              "      <td>0</td>\n",
              "      <td>False</td>\n",
              "      <td>northwest</td>\n",
              "      <td>21984.47061</td>\n",
              "      <td>ideal</td>\n",
              "      <td>(25, 45]</td>\n",
              "    </tr>\n",
              "    <tr>\n",
              "      <th>4</th>\n",
              "      <td>32</td>\n",
              "      <td>male</td>\n",
              "      <td>28.880</td>\n",
              "      <td>0</td>\n",
              "      <td>False</td>\n",
              "      <td>northwest</td>\n",
              "      <td>3866.85520</td>\n",
              "      <td>overweight</td>\n",
              "      <td>(25, 45]</td>\n",
              "    </tr>\n",
              "  </tbody>\n",
              "</table>\n",
              "</div>"
            ],
            "text/plain": [
              "   age     sex     bmi  ...      charges  bmi_status AgeInterval\n",
              "0   19  female  27.900  ...  16884.92400  overweight    (15, 25]\n",
              "1   18    male  33.770  ...   1725.55230     obesity    (15, 25]\n",
              "2   28    male  33.000  ...   4449.46200     obesity    (25, 45]\n",
              "3   33    male  22.705  ...  21984.47061       ideal    (25, 45]\n",
              "4   32    male  28.880  ...   3866.85520  overweight    (25, 45]\n",
              "\n",
              "[5 rows x 9 columns]"
            ]
          },
          "metadata": {
            "tags": []
          },
          "execution_count": 3
        }
      ]
    },
    {
      "cell_type": "code",
      "metadata": {
        "id": "8Pg0uBG11nC7",
        "colab_type": "code",
        "colab": {}
      },
      "source": [
        "X = df.iloc[:, :6].values\n",
        "y = df.iloc[:, 6].values"
      ],
      "execution_count": 0,
      "outputs": []
    },
    {
      "cell_type": "code",
      "metadata": {
        "id": "u7q86OcG2Ait",
        "colab_type": "code",
        "outputId": "49106a86-5f9d-4610-fa72-14d843448633",
        "colab": {
          "base_uri": "https://localhost:8080/",
          "height": 136
        }
      },
      "source": [
        "print(X)"
      ],
      "execution_count": 28,
      "outputs": [
        {
          "output_type": "stream",
          "text": [
            "[[19 'female' 27.9 0 True 'southwest']\n",
            " [18 'male' 33.77 1 False 'southeast']\n",
            " [28 'male' 33.0 3 False 'southeast']\n",
            " ...\n",
            " [18 'female' 36.85 0 False 'southeast']\n",
            " [21 'female' 25.8 0 False 'southwest']\n",
            " [61 'female' 29.07 0 True 'northwest']]\n"
          ],
          "name": "stdout"
        }
      ]
    },
    {
      "cell_type": "code",
      "metadata": {
        "id": "6r4KHQVP2Fd9",
        "colab_type": "code",
        "outputId": "1df1abc9-519e-49f0-a3f6-70a07db3dcba",
        "colab": {
          "base_uri": "https://localhost:8080/",
          "height": 34
        }
      },
      "source": [
        "print(y)"
      ],
      "execution_count": 29,
      "outputs": [
        {
          "output_type": "stream",
          "text": [
            "[16884.92  1725.55  4449.46 ...  1629.83  2007.94 29141.36]\n"
          ],
          "name": "stdout"
        }
      ]
    },
    {
      "cell_type": "code",
      "metadata": {
        "id": "8ojz9A7Q2OKj",
        "colab_type": "code",
        "colab": {}
      },
      "source": [
        "# encoding categorical data\n",
        "from sklearn.compose import ColumnTransformer\n",
        "from sklearn.preprocessing import OneHotEncoder\n",
        "\n",
        "ct = ColumnTransformer(transformers=[('encoder', OneHotEncoder(drop='first'), [1,4,5])], remainder='passthrough')\n",
        "X = ct.fit_transform(X)"
      ],
      "execution_count": 0,
      "outputs": []
    },
    {
      "cell_type": "code",
      "metadata": {
        "id": "kwVSxs9aSz2G",
        "colab_type": "code",
        "colab": {
          "base_uri": "https://localhost:8080/",
          "height": 102
        },
        "outputId": "5ba98898-e8cb-4153-c084-f094ddcdda44"
      },
      "source": [
        "print(X[:5])"
      ],
      "execution_count": 31,
      "outputs": [
        {
          "output_type": "stream",
          "text": [
            "[[0.0 1.0 0.0 0.0 1.0 19 27.9 0]\n",
            " [1.0 0.0 0.0 1.0 0.0 18 33.77 1]\n",
            " [1.0 0.0 0.0 1.0 0.0 28 33.0 3]\n",
            " [1.0 0.0 1.0 0.0 0.0 33 22.705 0]\n",
            " [1.0 0.0 1.0 0.0 0.0 32 28.88 0]]\n"
          ],
          "name": "stdout"
        }
      ]
    },
    {
      "cell_type": "code",
      "metadata": {
        "id": "GkKEeHXv3ufE",
        "colab_type": "code",
        "colab": {}
      },
      "source": [
        "# Splitting the dataset into the Training set and Test set\n",
        "from sklearn.model_selection import train_test_split\n",
        "X_train, X_test, y_train, y_test = train_test_split(X, y, test_size = 0.2)"
      ],
      "execution_count": 0,
      "outputs": []
    },
    {
      "cell_type": "code",
      "metadata": {
        "id": "ltxUEXVkHUlF",
        "colab_type": "code",
        "outputId": "bfc88d47-705c-4b8d-8be0-b8f57151224e",
        "colab": {
          "base_uri": "https://localhost:8080/",
          "height": 34
        }
      },
      "source": [
        "# Training the Multiple Linear Regression model on the Training set\n",
        "from sklearn.linear_model import LinearRegression\n",
        "regressor = LinearRegression()\n",
        "regressor.fit(X_train, y_train)"
      ],
      "execution_count": 33,
      "outputs": [
        {
          "output_type": "execute_result",
          "data": {
            "text/plain": [
              "LinearRegression(copy_X=True, fit_intercept=True, n_jobs=None, normalize=False)"
            ]
          },
          "metadata": {
            "tags": []
          },
          "execution_count": 33
        }
      ]
    },
    {
      "cell_type": "code",
      "metadata": {
        "id": "E0UlBP4xIKJD",
        "colab_type": "code",
        "outputId": "a7e2735b-56de-4a9e-b43f-d7cfbc135b73",
        "colab": {
          "base_uri": "https://localhost:8080/",
          "height": 187
        }
      },
      "source": [
        "# Predicting the Test set results\n",
        "y_pred = regressor.predict(X_test)\n",
        "np.set_printoptions(precision=2)\n",
        "print(np.concatenate((y_pred.reshape(len(y_pred),1), y_test.reshape(len(y_test),1)),1)[:10])"
      ],
      "execution_count": 34,
      "outputs": [
        {
          "output_type": "stream",
          "text": [
            "[[33485.72 40003.33]\n",
            " [37383.74 45863.21]\n",
            " [ 9723.58  2927.06]\n",
            " [10668.63  7348.14]\n",
            " [-1615.23  1694.8 ]\n",
            " [31343.68 37829.72]\n",
            " [10420.5   7445.92]\n",
            " [ 8129.98  7144.86]\n",
            " [ 4993.3   4992.38]\n",
            " [ 7326.47 14358.36]]\n"
          ],
          "name": "stdout"
        }
      ]
    },
    {
      "cell_type": "code",
      "metadata": {
        "id": "lKPjxSRIKgdU",
        "colab_type": "code",
        "outputId": "46e66559-0f5d-42c3-b135-874b61db48f7",
        "colab": {
          "base_uri": "https://localhost:8080/",
          "height": 51
        }
      },
      "source": [
        "# Model Evaluation\n",
        "from sklearn.metrics import r2_score,explained_variance_score\n",
        "print(r2_score(y_test, y_pred))\n",
        "print(explained_variance_score(y_test, y_pred))"
      ],
      "execution_count": 45,
      "outputs": [
        {
          "output_type": "stream",
          "text": [
            "0.7607702377546052\n",
            "0.7607761428847546\n"
          ],
          "name": "stdout"
        }
      ]
    },
    {
      "cell_type": "code",
      "metadata": {
        "id": "O630iUOgRuAU",
        "colab_type": "code",
        "colab": {
          "base_uri": "https://localhost:8080/",
          "height": 51
        },
        "outputId": "21a86db4-89e1-486c-b229-6f7da179a82f"
      },
      "source": [
        "# Applying K-Fold Cross Validation\n",
        "from sklearn.model_selection import cross_val_score\n",
        "accuracies = cross_val_score(estimator = regressor, X = X_train, y = y_train, cv = 10)\n",
        "print(\"Accuracy: {:.2f} %\".format(accuracies.mean()*100))\n",
        "print(\"Standard Deviation: {:.2f} %\".format(accuracies.std()*100))"
      ],
      "execution_count": 49,
      "outputs": [
        {
          "output_type": "stream",
          "text": [
            "Accuracy: 73.22 %\n",
            "Standard Deviation: 7.52 %\n"
          ],
          "name": "stdout"
        }
      ]
    },
    {
      "cell_type": "code",
      "metadata": {
        "id": "1o1S8ODlAsgt",
        "colab_type": "code",
        "colab": {
          "base_uri": "https://localhost:8080/",
          "height": 71
        },
        "outputId": "af56d694-59a1-49d2-f10f-712047628cf4"
      },
      "source": [
        "## (PLUS) Building the optimal model using Backward Elimination method\n",
        "from statsmodels.regression.linear_model import OLS\n",
        "from statsmodels.tools.tools import add_constant\n",
        "X_train = add_constant(X_train)\n",
        "X_train = X_train.astype(float)\n",
        "y_train = y_train.tolist()"
      ],
      "execution_count": 36,
      "outputs": [
        {
          "output_type": "stream",
          "text": [
            "/usr/local/lib/python3.6/dist-packages/statsmodels/tools/_testing.py:19: FutureWarning: pandas.util.testing is deprecated. Use the functions in the public API at pandas.testing instead.\n",
            "  import pandas.util.testing as tm\n"
          ],
          "name": "stderr"
        }
      ]
    },
    {
      "cell_type": "code",
      "metadata": {
        "id": "P-ZdfXXKLv2p",
        "colab_type": "code",
        "colab": {}
      },
      "source": [
        "X_opt = X_train[:,[0,1,2,3,4,5,6,7,8]]"
      ],
      "execution_count": 0,
      "outputs": []
    },
    {
      "cell_type": "code",
      "metadata": {
        "id": "u70i_m9sHtsT",
        "colab_type": "code",
        "colab": {
          "base_uri": "https://localhost:8080/",
          "height": 591
        },
        "outputId": "07b5f792-e539-4bfa-a331-fef373cdcb2e"
      },
      "source": [
        "model = OLS(y_train, X_opt)\n",
        "results = model.fit()\n",
        "results.summary()"
      ],
      "execution_count": 38,
      "outputs": [
        {
          "output_type": "execute_result",
          "data": {
            "text/html": [
              "<table class=\"simpletable\">\n",
              "<caption>OLS Regression Results</caption>\n",
              "<tr>\n",
              "  <th>Dep. Variable:</th>            <td>y</td>        <th>  R-squared:         </th> <td>   0.748</td> \n",
              "</tr>\n",
              "<tr>\n",
              "  <th>Model:</th>                   <td>OLS</td>       <th>  Adj. R-squared:    </th> <td>   0.746</td> \n",
              "</tr>\n",
              "<tr>\n",
              "  <th>Method:</th>             <td>Least Squares</td>  <th>  F-statistic:       </th> <td>   392.7</td> \n",
              "</tr>\n",
              "<tr>\n",
              "  <th>Date:</th>             <td>Sat, 09 May 2020</td> <th>  Prob (F-statistic):</th> <td>7.36e-311</td>\n",
              "</tr>\n",
              "<tr>\n",
              "  <th>Time:</th>                 <td>16:26:39</td>     <th>  Log-Likelihood:    </th> <td> -10828.</td> \n",
              "</tr>\n",
              "<tr>\n",
              "  <th>No. Observations:</th>      <td>  1070</td>      <th>  AIC:               </th> <td>2.167e+04</td>\n",
              "</tr>\n",
              "<tr>\n",
              "  <th>Df Residuals:</th>          <td>  1061</td>      <th>  BIC:               </th> <td>2.172e+04</td>\n",
              "</tr>\n",
              "<tr>\n",
              "  <th>Df Model:</th>              <td>     8</td>      <th>                     </th>     <td> </td>    \n",
              "</tr>\n",
              "<tr>\n",
              "  <th>Covariance Type:</th>      <td>nonrobust</td>    <th>                     </th>     <td> </td>    \n",
              "</tr>\n",
              "</table>\n",
              "<table class=\"simpletable\">\n",
              "<tr>\n",
              "    <td></td>       <th>coef</th>     <th>std err</th>      <th>t</th>      <th>P>|t|</th>  <th>[0.025</th>    <th>0.975]</th>  \n",
              "</tr>\n",
              "<tr>\n",
              "  <th>const</th> <td> -1.11e+04</td> <td> 1113.086</td> <td>   -9.974</td> <td> 0.000</td> <td>-1.33e+04</td> <td>-8918.330</td>\n",
              "</tr>\n",
              "<tr>\n",
              "  <th>x1</th>    <td> -130.3474</td> <td>  370.880</td> <td>   -0.351</td> <td> 0.725</td> <td> -858.089</td> <td>  597.394</td>\n",
              "</tr>\n",
              "<tr>\n",
              "  <th>x2</th>    <td> 2.367e+04</td> <td>  461.172</td> <td>   51.335</td> <td> 0.000</td> <td> 2.28e+04</td> <td> 2.46e+04</td>\n",
              "</tr>\n",
              "<tr>\n",
              "  <th>x3</th>    <td> -382.8277</td> <td>  528.045</td> <td>   -0.725</td> <td> 0.469</td> <td>-1418.959</td> <td>  653.304</td>\n",
              "</tr>\n",
              "<tr>\n",
              "  <th>x4</th>    <td> -701.6288</td> <td>  532.948</td> <td>   -1.317</td> <td> 0.188</td> <td>-1747.381</td> <td>  344.124</td>\n",
              "</tr>\n",
              "<tr>\n",
              "  <th>x5</th>    <td> -826.6410</td> <td>  537.217</td> <td>   -1.539</td> <td> 0.124</td> <td>-1880.769</td> <td>  227.487</td>\n",
              "</tr>\n",
              "<tr>\n",
              "  <th>x6</th>    <td>  255.5530</td> <td>   13.274</td> <td>   19.252</td> <td> 0.000</td> <td>  229.507</td> <td>  281.599</td>\n",
              "</tr>\n",
              "<tr>\n",
              "  <th>x7</th>    <td>  314.3859</td> <td>   32.553</td> <td>    9.658</td> <td> 0.000</td> <td>  250.510</td> <td>  378.261</td>\n",
              "</tr>\n",
              "<tr>\n",
              "  <th>x8</th>    <td>  385.2357</td> <td>  152.922</td> <td>    2.519</td> <td> 0.012</td> <td>   85.173</td> <td>  685.299</td>\n",
              "</tr>\n",
              "</table>\n",
              "<table class=\"simpletable\">\n",
              "<tr>\n",
              "  <th>Omnibus:</th>       <td>245.325</td> <th>  Durbin-Watson:     </th> <td>   2.093</td> \n",
              "</tr>\n",
              "<tr>\n",
              "  <th>Prob(Omnibus):</th> <td> 0.000</td>  <th>  Jarque-Bera (JB):  </th> <td> 582.531</td> \n",
              "</tr>\n",
              "<tr>\n",
              "  <th>Skew:</th>          <td> 1.229</td>  <th>  Prob(JB):          </th> <td>3.20e-127</td>\n",
              "</tr>\n",
              "<tr>\n",
              "  <th>Kurtosis:</th>      <td> 5.650</td>  <th>  Cond. No.          </th> <td>    314.</td> \n",
              "</tr>\n",
              "</table><br/><br/>Warnings:<br/>[1] Standard Errors assume that the covariance matrix of the errors is correctly specified."
            ],
            "text/plain": [
              "<class 'statsmodels.iolib.summary.Summary'>\n",
              "\"\"\"\n",
              "                            OLS Regression Results                            \n",
              "==============================================================================\n",
              "Dep. Variable:                      y   R-squared:                       0.748\n",
              "Model:                            OLS   Adj. R-squared:                  0.746\n",
              "Method:                 Least Squares   F-statistic:                     392.7\n",
              "Date:                Sat, 09 May 2020   Prob (F-statistic):          7.36e-311\n",
              "Time:                        16:26:39   Log-Likelihood:                -10828.\n",
              "No. Observations:                1070   AIC:                         2.167e+04\n",
              "Df Residuals:                    1061   BIC:                         2.172e+04\n",
              "Df Model:                           8                                         \n",
              "Covariance Type:            nonrobust                                         \n",
              "==============================================================================\n",
              "                 coef    std err          t      P>|t|      [0.025      0.975]\n",
              "------------------------------------------------------------------------------\n",
              "const       -1.11e+04   1113.086     -9.974      0.000   -1.33e+04   -8918.330\n",
              "x1          -130.3474    370.880     -0.351      0.725    -858.089     597.394\n",
              "x2          2.367e+04    461.172     51.335      0.000    2.28e+04    2.46e+04\n",
              "x3          -382.8277    528.045     -0.725      0.469   -1418.959     653.304\n",
              "x4          -701.6288    532.948     -1.317      0.188   -1747.381     344.124\n",
              "x5          -826.6410    537.217     -1.539      0.124   -1880.769     227.487\n",
              "x6           255.5530     13.274     19.252      0.000     229.507     281.599\n",
              "x7           314.3859     32.553      9.658      0.000     250.510     378.261\n",
              "x8           385.2357    152.922      2.519      0.012      85.173     685.299\n",
              "==============================================================================\n",
              "Omnibus:                      245.325   Durbin-Watson:                   2.093\n",
              "Prob(Omnibus):                  0.000   Jarque-Bera (JB):              582.531\n",
              "Skew:                           1.229   Prob(JB):                    3.20e-127\n",
              "Kurtosis:                       5.650   Cond. No.                         314.\n",
              "==============================================================================\n",
              "\n",
              "Warnings:\n",
              "[1] Standard Errors assume that the covariance matrix of the errors is correctly specified.\n",
              "\"\"\""
            ]
          },
          "metadata": {
            "tags": []
          },
          "execution_count": 38
        }
      ]
    },
    {
      "cell_type": "code",
      "metadata": {
        "id": "bEn7KNLYMwOU",
        "colab_type": "code",
        "colab": {}
      },
      "source": [
        "# eliminate X_train[1] : gender\n",
        "X_opt = X_train[:,[0,2,3,4,5,6,7,8]]"
      ],
      "execution_count": 0,
      "outputs": []
    },
    {
      "cell_type": "code",
      "metadata": {
        "id": "veTOXjAINAYR",
        "colab_type": "code",
        "colab": {
          "base_uri": "https://localhost:8080/",
          "height": 570
        },
        "outputId": "20198ec1-daf9-4e64-dff3-b3afd82704ee"
      },
      "source": [
        "model = OLS(y_train, X_opt)\n",
        "results = model.fit()\n",
        "results.summary()"
      ],
      "execution_count": 40,
      "outputs": [
        {
          "output_type": "execute_result",
          "data": {
            "text/html": [
              "<table class=\"simpletable\">\n",
              "<caption>OLS Regression Results</caption>\n",
              "<tr>\n",
              "  <th>Dep. Variable:</th>            <td>y</td>        <th>  R-squared:         </th> <td>   0.748</td> \n",
              "</tr>\n",
              "<tr>\n",
              "  <th>Model:</th>                   <td>OLS</td>       <th>  Adj. R-squared:    </th> <td>   0.746</td> \n",
              "</tr>\n",
              "<tr>\n",
              "  <th>Method:</th>             <td>Least Squares</td>  <th>  F-statistic:       </th> <td>   449.2</td> \n",
              "</tr>\n",
              "<tr>\n",
              "  <th>Date:</th>             <td>Sat, 09 May 2020</td> <th>  Prob (F-statistic):</th> <td>3.56e-312</td>\n",
              "</tr>\n",
              "<tr>\n",
              "  <th>Time:</th>                 <td>16:27:02</td>     <th>  Log-Likelihood:    </th> <td> -10828.</td> \n",
              "</tr>\n",
              "<tr>\n",
              "  <th>No. Observations:</th>      <td>  1070</td>      <th>  AIC:               </th> <td>2.167e+04</td>\n",
              "</tr>\n",
              "<tr>\n",
              "  <th>Df Residuals:</th>          <td>  1062</td>      <th>  BIC:               </th> <td>2.171e+04</td>\n",
              "</tr>\n",
              "<tr>\n",
              "  <th>Df Model:</th>              <td>     7</td>      <th>                     </th>     <td> </td>    \n",
              "</tr>\n",
              "<tr>\n",
              "  <th>Covariance Type:</th>      <td>nonrobust</td>    <th>                     </th>     <td> </td>    \n",
              "</tr>\n",
              "</table>\n",
              "<table class=\"simpletable\">\n",
              "<tr>\n",
              "    <td></td>       <th>coef</th>     <th>std err</th>      <th>t</th>      <th>P>|t|</th>  <th>[0.025</th>    <th>0.975]</th>  \n",
              "</tr>\n",
              "<tr>\n",
              "  <th>const</th> <td>-1.116e+04</td> <td> 1102.193</td> <td>  -10.122</td> <td> 0.000</td> <td>-1.33e+04</td> <td>-8993.158</td>\n",
              "</tr>\n",
              "<tr>\n",
              "  <th>x1</th>    <td> 2.366e+04</td> <td>  460.011</td> <td>   51.442</td> <td> 0.000</td> <td> 2.28e+04</td> <td> 2.46e+04</td>\n",
              "</tr>\n",
              "<tr>\n",
              "  <th>x2</th>    <td> -385.8023</td> <td>  527.759</td> <td>   -0.731</td> <td> 0.465</td> <td>-1421.372</td> <td>  649.768</td>\n",
              "</tr>\n",
              "<tr>\n",
              "  <th>x3</th>    <td> -700.0353</td> <td>  532.709</td> <td>   -1.314</td> <td> 0.189</td> <td>-1745.317</td> <td>  345.247</td>\n",
              "</tr>\n",
              "<tr>\n",
              "  <th>x4</th>    <td> -822.9362</td> <td>  536.892</td> <td>   -1.533</td> <td> 0.126</td> <td>-1876.425</td> <td>  230.552</td>\n",
              "</tr>\n",
              "<tr>\n",
              "  <th>x5</th>    <td>  255.7762</td> <td>   13.253</td> <td>   19.299</td> <td> 0.000</td> <td>  229.770</td> <td>  281.782</td>\n",
              "</tr>\n",
              "<tr>\n",
              "  <th>x6</th>    <td>  313.7323</td> <td>   32.486</td> <td>    9.657</td> <td> 0.000</td> <td>  249.987</td> <td>  377.477</td>\n",
              "</tr>\n",
              "<tr>\n",
              "  <th>x7</th>    <td>  384.7246</td> <td>  152.851</td> <td>    2.517</td> <td> 0.012</td> <td>   84.799</td> <td>  684.650</td>\n",
              "</tr>\n",
              "</table>\n",
              "<table class=\"simpletable\">\n",
              "<tr>\n",
              "  <th>Omnibus:</th>       <td>245.233</td> <th>  Durbin-Watson:     </th> <td>   2.093</td> \n",
              "</tr>\n",
              "<tr>\n",
              "  <th>Prob(Omnibus):</th> <td> 0.000</td>  <th>  Jarque-Bera (JB):  </th> <td> 581.609</td> \n",
              "</tr>\n",
              "<tr>\n",
              "  <th>Skew:</th>          <td> 1.229</td>  <th>  Prob(JB):          </th> <td>5.07e-127</td>\n",
              "</tr>\n",
              "<tr>\n",
              "  <th>Kurtosis:</th>      <td> 5.646</td>  <th>  Cond. No.          </th> <td>    311.</td> \n",
              "</tr>\n",
              "</table><br/><br/>Warnings:<br/>[1] Standard Errors assume that the covariance matrix of the errors is correctly specified."
            ],
            "text/plain": [
              "<class 'statsmodels.iolib.summary.Summary'>\n",
              "\"\"\"\n",
              "                            OLS Regression Results                            \n",
              "==============================================================================\n",
              "Dep. Variable:                      y   R-squared:                       0.748\n",
              "Model:                            OLS   Adj. R-squared:                  0.746\n",
              "Method:                 Least Squares   F-statistic:                     449.2\n",
              "Date:                Sat, 09 May 2020   Prob (F-statistic):          3.56e-312\n",
              "Time:                        16:27:02   Log-Likelihood:                -10828.\n",
              "No. Observations:                1070   AIC:                         2.167e+04\n",
              "Df Residuals:                    1062   BIC:                         2.171e+04\n",
              "Df Model:                           7                                         \n",
              "Covariance Type:            nonrobust                                         \n",
              "==============================================================================\n",
              "                 coef    std err          t      P>|t|      [0.025      0.975]\n",
              "------------------------------------------------------------------------------\n",
              "const      -1.116e+04   1102.193    -10.122      0.000   -1.33e+04   -8993.158\n",
              "x1          2.366e+04    460.011     51.442      0.000    2.28e+04    2.46e+04\n",
              "x2          -385.8023    527.759     -0.731      0.465   -1421.372     649.768\n",
              "x3          -700.0353    532.709     -1.314      0.189   -1745.317     345.247\n",
              "x4          -822.9362    536.892     -1.533      0.126   -1876.425     230.552\n",
              "x5           255.7762     13.253     19.299      0.000     229.770     281.782\n",
              "x6           313.7323     32.486      9.657      0.000     249.987     377.477\n",
              "x7           384.7246    152.851      2.517      0.012      84.799     684.650\n",
              "==============================================================================\n",
              "Omnibus:                      245.233   Durbin-Watson:                   2.093\n",
              "Prob(Omnibus):                  0.000   Jarque-Bera (JB):              581.609\n",
              "Skew:                           1.229   Prob(JB):                    5.07e-127\n",
              "Kurtosis:                       5.646   Cond. No.                         311.\n",
              "==============================================================================\n",
              "\n",
              "Warnings:\n",
              "[1] Standard Errors assume that the covariance matrix of the errors is correctly specified.\n",
              "\"\"\""
            ]
          },
          "metadata": {
            "tags": []
          },
          "execution_count": 40
        }
      ]
    },
    {
      "cell_type": "code",
      "metadata": {
        "id": "wlLyNDptNTUX",
        "colab_type": "code",
        "colab": {}
      },
      "source": [
        "# eliminate X_train[3] : region northwest\n",
        "X_opt = X_train[:,[0,2,4,5,6,7,8]]"
      ],
      "execution_count": 0,
      "outputs": []
    },
    {
      "cell_type": "code",
      "metadata": {
        "id": "rcBKRNuoNqK9",
        "colab_type": "code",
        "colab": {
          "base_uri": "https://localhost:8080/",
          "height": 549
        },
        "outputId": "c67b1b26-9967-43c3-cc03-8c708ac733c9"
      },
      "source": [
        "model = OLS(y_train, X_opt)\n",
        "results = model.fit()\n",
        "results.summary()"
      ],
      "execution_count": 42,
      "outputs": [
        {
          "output_type": "execute_result",
          "data": {
            "text/html": [
              "<table class=\"simpletable\">\n",
              "<caption>OLS Regression Results</caption>\n",
              "<tr>\n",
              "  <th>Dep. Variable:</th>            <td>y</td>        <th>  R-squared:         </th> <td>   0.747</td> \n",
              "</tr>\n",
              "<tr>\n",
              "  <th>Model:</th>                   <td>OLS</td>       <th>  Adj. R-squared:    </th> <td>   0.746</td> \n",
              "</tr>\n",
              "<tr>\n",
              "  <th>Method:</th>             <td>Least Squares</td>  <th>  F-statistic:       </th> <td>   524.2</td> \n",
              "</tr>\n",
              "<tr>\n",
              "  <th>Date:</th>             <td>Sat, 09 May 2020</td> <th>  Prob (F-statistic):</th> <td>1.95e-313</td>\n",
              "</tr>\n",
              "<tr>\n",
              "  <th>Time:</th>                 <td>16:27:17</td>     <th>  Log-Likelihood:    </th> <td> -10828.</td> \n",
              "</tr>\n",
              "<tr>\n",
              "  <th>No. Observations:</th>      <td>  1070</td>      <th>  AIC:               </th> <td>2.167e+04</td>\n",
              "</tr>\n",
              "<tr>\n",
              "  <th>Df Residuals:</th>          <td>  1063</td>      <th>  BIC:               </th> <td>2.171e+04</td>\n",
              "</tr>\n",
              "<tr>\n",
              "  <th>Df Model:</th>              <td>     6</td>      <th>                     </th>     <td> </td>    \n",
              "</tr>\n",
              "<tr>\n",
              "  <th>Covariance Type:</th>      <td>nonrobust</td>    <th>                     </th>     <td> </td>    \n",
              "</tr>\n",
              "</table>\n",
              "<table class=\"simpletable\">\n",
              "<tr>\n",
              "    <td></td>       <th>coef</th>     <th>std err</th>      <th>t</th>      <th>P>|t|</th>  <th>[0.025</th>    <th>0.975]</th>  \n",
              "</tr>\n",
              "<tr>\n",
              "  <th>const</th> <td>-1.136e+04</td> <td> 1066.496</td> <td>  -10.650</td> <td> 0.000</td> <td>-1.35e+04</td> <td>-9265.945</td>\n",
              "</tr>\n",
              "<tr>\n",
              "  <th>x1</th>    <td> 2.368e+04</td> <td>  459.370</td> <td>   51.549</td> <td> 0.000</td> <td> 2.28e+04</td> <td> 2.46e+04</td>\n",
              "</tr>\n",
              "<tr>\n",
              "  <th>x2</th>    <td> -504.5036</td> <td>  460.588</td> <td>   -1.095</td> <td> 0.274</td> <td>-1408.269</td> <td>  399.262</td>\n",
              "</tr>\n",
              "<tr>\n",
              "  <th>x3</th>    <td> -625.3668</td> <td>  463.805</td> <td>   -1.348</td> <td> 0.178</td> <td>-1535.443</td> <td>  284.710</td>\n",
              "</tr>\n",
              "<tr>\n",
              "  <th>x4</th>    <td>  255.7794</td> <td>   13.250</td> <td>   19.303</td> <td> 0.000</td> <td>  229.779</td> <td>  281.779</td>\n",
              "</tr>\n",
              "<tr>\n",
              "  <th>x5</th>    <td>  313.9084</td> <td>   32.478</td> <td>    9.665</td> <td> 0.000</td> <td>  250.179</td> <td>  377.637</td>\n",
              "</tr>\n",
              "<tr>\n",
              "  <th>x6</th>    <td>  382.0107</td> <td>  152.773</td> <td>    2.501</td> <td> 0.013</td> <td>   82.240</td> <td>  681.781</td>\n",
              "</tr>\n",
              "</table>\n",
              "<table class=\"simpletable\">\n",
              "<tr>\n",
              "  <th>Omnibus:</th>       <td>245.017</td> <th>  Durbin-Watson:     </th> <td>   2.094</td> \n",
              "</tr>\n",
              "<tr>\n",
              "  <th>Prob(Omnibus):</th> <td> 0.000</td>  <th>  Jarque-Bera (JB):  </th> <td> 579.275</td> \n",
              "</tr>\n",
              "<tr>\n",
              "  <th>Skew:</th>          <td> 1.230</td>  <th>  Prob(JB):          </th> <td>1.63e-126</td>\n",
              "</tr>\n",
              "<tr>\n",
              "  <th>Kurtosis:</th>      <td> 5.636</td>  <th>  Cond. No.          </th> <td>    296.</td> \n",
              "</tr>\n",
              "</table><br/><br/>Warnings:<br/>[1] Standard Errors assume that the covariance matrix of the errors is correctly specified."
            ],
            "text/plain": [
              "<class 'statsmodels.iolib.summary.Summary'>\n",
              "\"\"\"\n",
              "                            OLS Regression Results                            \n",
              "==============================================================================\n",
              "Dep. Variable:                      y   R-squared:                       0.747\n",
              "Model:                            OLS   Adj. R-squared:                  0.746\n",
              "Method:                 Least Squares   F-statistic:                     524.2\n",
              "Date:                Sat, 09 May 2020   Prob (F-statistic):          1.95e-313\n",
              "Time:                        16:27:17   Log-Likelihood:                -10828.\n",
              "No. Observations:                1070   AIC:                         2.167e+04\n",
              "Df Residuals:                    1063   BIC:                         2.171e+04\n",
              "Df Model:                           6                                         \n",
              "Covariance Type:            nonrobust                                         \n",
              "==============================================================================\n",
              "                 coef    std err          t      P>|t|      [0.025      0.975]\n",
              "------------------------------------------------------------------------------\n",
              "const      -1.136e+04   1066.496    -10.650      0.000   -1.35e+04   -9265.945\n",
              "x1          2.368e+04    459.370     51.549      0.000    2.28e+04    2.46e+04\n",
              "x2          -504.5036    460.588     -1.095      0.274   -1408.269     399.262\n",
              "x3          -625.3668    463.805     -1.348      0.178   -1535.443     284.710\n",
              "x4           255.7794     13.250     19.303      0.000     229.779     281.779\n",
              "x5           313.9084     32.478      9.665      0.000     250.179     377.637\n",
              "x6           382.0107    152.773      2.501      0.013      82.240     681.781\n",
              "==============================================================================\n",
              "Omnibus:                      245.017   Durbin-Watson:                   2.094\n",
              "Prob(Omnibus):                  0.000   Jarque-Bera (JB):              579.275\n",
              "Skew:                           1.230   Prob(JB):                    1.63e-126\n",
              "Kurtosis:                       5.636   Cond. No.                         296.\n",
              "==============================================================================\n",
              "\n",
              "Warnings:\n",
              "[1] Standard Errors assume that the covariance matrix of the errors is correctly specified.\n",
              "\"\"\""
            ]
          },
          "metadata": {
            "tags": []
          },
          "execution_count": 42
        }
      ]
    },
    {
      "cell_type": "code",
      "metadata": {
        "id": "wa-Ldez9OXPO",
        "colab_type": "code",
        "colab": {}
      },
      "source": [
        "# Note : eliminating independent variables does not improve Adjusted R-square"
      ],
      "execution_count": 0,
      "outputs": []
    }
  ]
}